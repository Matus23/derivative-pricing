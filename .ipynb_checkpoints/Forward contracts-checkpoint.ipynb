{
 "cells": [
  {
   "cell_type": "markdown",
   "id": "716282d0",
   "metadata": {},
   "source": [
    "## Forward contracts "
   ]
  },
  {
   "cell_type": "markdown",
   "id": "f2eeb72d",
   "metadata": {},
   "source": [
    "### Why we need them"
   ]
  },
  {
   "cell_type": "markdown",
   "id": "f169333c",
   "metadata": {},
   "source": [
    "Imagine you own a steel company and you are responsible for its financial prosperity. You just signed a deal for next year and under normal circumstances you will not face solvency problems. However, your friend informed you that inflation might go up next year and there is chance of a war that could have a significant impact on oil prices. You've got a hunch that your company's energy bills will skyrocket next year. If only there was a way to hedge against this... and that's why we have forward contracts: you agree with the electricity producer how much electricity you would like to buy from them next year for a price you agree on now - before there is a turmoil in the market.\n",
    "\n",
    "\n",
    "P.S.: The steel you agreed to sell - chances are that you don't get your money straight away either and you agree on another forward contract with the buyer."
   ]
  },
  {
   "cell_type": "markdown",
   "id": "bc19464b",
   "metadata": {},
   "source": [
    "### Definition "
   ]
  },
  {
   "cell_type": "markdown",
   "id": "81070103",
   "metadata": {},
   "source": [
    "Forward contract is an over-the-counter financial derivative whereby a seller agrees to sell the underlying to the buyer at a fixed priced at a defined future date.\n",
    "\n",
    "Over-the-counter means the contract is not sold on an exchange and is custom designed between the two parties. This implies additional credit risk in case one party fails to deliver on their obligation (e.g. you have cash flow problems or the electricity producer cannot provide sufficient electricity output).\n",
    "\n",
    "When a buyer and seller step into a forward contract, there is no money exchange. The price of the contract reflects the price for which the buyer agrees to purchase the asset at an expiration date T."
   ]
  },
  {
   "cell_type": "markdown",
   "id": "295599e2",
   "metadata": {},
   "source": [
    "### Price of forward contracts"
   ]
  },
  {
   "cell_type": "markdown",
   "id": "cb17bbe6",
   "metadata": {},
   "source": [
    "Forward contract price assuming no costs and benefits arising from holding the asset:\n",
    "$$ F_{0}(T) = S_{0}(1+r)^T $$\n",
    "where:\n",
    "<ul>\n",
    "    <li>\n",
    "    T is the expiration date of the contract. This is when the money transfer and change of ownership of the asset happen.\n",
    "    </li>\n",
    "<li>\n",
    "    r is the risk-free interest rate. This is often the rate provided by a US government bond as the government of a developed country is unlikely to default on their debt.\n",
    "</li>\n",
    "<li>\n",
    "    $S_{0}$ is the asset price when the two parties agree on the contract.\n",
    "</li>\n",
    "</ul>"
   ]
  },
  {
   "cell_type": "markdown",
   "id": "57bc47d4",
   "metadata": {},
   "source": [
    "There are often benefits and costs associated with holding an asset. The benefit of holding a share is its dividend payment. The benefits don't have to be monetary - the ability to live in a nice house is a perk of owning it. The costs on the other hand can include transactions costs or utility bills and property tax.\n",
    "\n",
    "With the costs and benefits considered, the price of a forward contract becomes:\n",
    "$$ F_{0}(T) = (S_{0} - \\gamma + \\theta)(1+r)^T $$ \n",
    "\n",
    "where:\n",
    "<ul>\n",
    "    <li>\n",
    "        $\\gamma$ represents the benefits \n",
    "    </li>\n",
    "    <li>\n",
    "        $\\theta$ represents the costs \n",
    "    </li>\n",
    "</ul>\n",
    "\n",
    "<b>Note that</b> the price of the forward contract subtracts the benefits and adds the costs. This is because the benefits come out of holding the asset, and thus the buyer in the forward contract will not receive them, decreasing its value. Inversely, the buyer in the forward doesn't have to pay the costs of holding the asset, increasing the value of the contract.\n",
    "\n"
   ]
  },
  {
   "cell_type": "markdown",
   "id": "c0a8a2da",
   "metadata": {},
   "source": [
    "Below is a chart that shows how the price of the forward contract changes depending on its expiry rate. Initial asset price is $100. You can select interest by interacting with the slider."
   ]
  },
  {
   "cell_type": "code",
   "execution_count": 104,
   "id": "f7e42f51",
   "metadata": {},
   "outputs": [
    {
     "data": {
      "application/vnd.plotly.v1+json": {
       "config": {
        "plotlyServerURL": "https://plot.ly"
       },
       "data": [
        {
         "hovertemplate": "Interest rate (%)=0.0<br>Expiry date (y)=%{x}<br>Forward price ($)=%{y}<extra></extra>",
         "legendgroup": "",
         "marker": {
          "color": "#636efa",
          "symbol": "circle"
         },
         "mode": "markers",
         "name": "",
         "orientation": "v",
         "showlegend": false,
         "type": "scatter",
         "x": [
          0,
          1,
          2,
          3,
          4,
          5,
          6,
          7,
          8,
          9,
          10,
          11,
          12,
          13,
          14,
          15,
          16,
          17,
          18,
          19,
          20,
          21,
          22,
          23
         ],
         "xaxis": "x",
         "y": [
          100,
          100,
          100,
          100,
          100,
          100,
          100,
          100,
          100,
          100,
          100,
          100,
          100,
          100,
          100,
          100,
          100,
          100,
          100,
          100,
          100,
          100,
          100,
          100
         ],
         "yaxis": "y"
        }
       ],
       "frames": [
        {
         "data": [
          {
           "hovertemplate": "Interest rate (%)=0.0<br>Expiry date (y)=%{x}<br>Forward price ($)=%{y}<extra></extra>",
           "legendgroup": "",
           "marker": {
            "color": "#636efa",
            "symbol": "circle"
           },
           "mode": "markers",
           "name": "",
           "orientation": "v",
           "showlegend": false,
           "type": "scatter",
           "x": [
            0,
            1,
            2,
            3,
            4,
            5,
            6,
            7,
            8,
            9,
            10,
            11,
            12,
            13,
            14,
            15,
            16,
            17,
            18,
            19,
            20,
            21,
            22,
            23
           ],
           "xaxis": "x",
           "y": [
            100,
            100,
            100,
            100,
            100,
            100,
            100,
            100,
            100,
            100,
            100,
            100,
            100,
            100,
            100,
            100,
            100,
            100,
            100,
            100,
            100,
            100,
            100,
            100
           ],
           "yaxis": "y"
          }
         ],
         "name": "0.0"
        },
        {
         "data": [
          {
           "hovertemplate": "Interest rate (%)=0.25<br>Expiry date (y)=%{x}<br>Forward price ($)=%{y}<extra></extra>",
           "legendgroup": "",
           "marker": {
            "color": "#636efa",
            "symbol": "circle"
           },
           "mode": "markers",
           "name": "",
           "orientation": "v",
           "showlegend": false,
           "type": "scatter",
           "x": [
            0,
            1,
            2,
            3,
            4,
            5,
            6,
            7,
            8,
            9,
            10,
            11,
            12,
            13,
            14,
            15,
            16,
            17,
            18,
            19,
            20,
            21,
            22,
            23
           ],
           "xaxis": "x",
           "y": [
            100,
            100.25,
            100.50062499999999,
            100.75187656249997,
            101.00375625390623,
            101.256265644541,
            101.50940630865233,
            101.76317982442396,
            102.01758777398501,
            102.27263174341998,
            102.52831332277852,
            102.78463410608545,
            103.04159569135068,
            103.29919968057904,
            103.55744767978048,
            103.81634129897992,
            104.07588215222736,
            104.33607185760793,
            104.59691203725194,
            104.85840431734508,
            105.12055032813844,
            105.38335170395877,
            105.64681008321865,
            105.9109271084267
           ],
           "yaxis": "y"
          }
         ],
         "name": "0.25"
        },
        {
         "data": [
          {
           "hovertemplate": "Interest rate (%)=0.5<br>Expiry date (y)=%{x}<br>Forward price ($)=%{y}<extra></extra>",
           "legendgroup": "",
           "marker": {
            "color": "#636efa",
            "symbol": "circle"
           },
           "mode": "markers",
           "name": "",
           "orientation": "v",
           "showlegend": false,
           "type": "scatter",
           "x": [
            0,
            1,
            2,
            3,
            4,
            5,
            6,
            7,
            8,
            9,
            10,
            11,
            12,
            13,
            14,
            15,
            16,
            17,
            18,
            19,
            20,
            21,
            22,
            23
           ],
           "xaxis": "x",
           "y": [
            100,
            100.49999999999999,
            101.00249999999997,
            101.50751249999996,
            102.01505006249995,
            102.52512531281243,
            103.03775093937651,
            103.55293969407337,
            104.07070439254373,
            104.59105791450642,
            105.11401320407896,
            105.63958327009935,
            106.16778118644983,
            106.69862009238207,
            107.23211319284395,
            107.76827375880818,
            108.3071151276022,
            108.8486507032402,
            109.39289395675638,
            109.93985842654016,
            110.48955771867284,
            111.0420055072662,
            111.5972155348025,
            112.15520161247652
           ],
           "yaxis": "y"
          }
         ],
         "name": "0.5"
        },
        {
         "data": [
          {
           "hovertemplate": "Interest rate (%)=0.75<br>Expiry date (y)=%{x}<br>Forward price ($)=%{y}<extra></extra>",
           "legendgroup": "",
           "marker": {
            "color": "#636efa",
            "symbol": "circle"
           },
           "mode": "markers",
           "name": "",
           "orientation": "v",
           "showlegend": false,
           "type": "scatter",
           "x": [
            0,
            1,
            2,
            3,
            4,
            5,
            6,
            7,
            8,
            9,
            10,
            11,
            12,
            13,
            14,
            15,
            16,
            17,
            18,
            19,
            20,
            21,
            22,
            23
           ],
           "xaxis": "x",
           "y": [
            100,
            100.75,
            101.50562500000002,
            102.26691718750003,
            103.03391906640627,
            103.80667345940434,
            104.58522351034986,
            105.3696126866775,
            106.15988478182759,
            106.95608391769129,
            107.75825454707399,
            108.56644145617705,
            109.38068976709839,
            110.20104494035164,
            111.02755277740428,
            111.86025942323481,
            112.69921136890908,
            113.5444554541759,
            114.39603887008222,
            115.25400916160787,
            116.11841423031993,
            116.98930233704733,
            117.86672210457519,
            118.75072252035952
           ],
           "yaxis": "y"
          }
         ],
         "name": "0.75"
        },
        {
         "data": [
          {
           "hovertemplate": "Interest rate (%)=1.0<br>Expiry date (y)=%{x}<br>Forward price ($)=%{y}<extra></extra>",
           "legendgroup": "",
           "marker": {
            "color": "#636efa",
            "symbol": "circle"
           },
           "mode": "markers",
           "name": "",
           "orientation": "v",
           "showlegend": false,
           "type": "scatter",
           "x": [
            0,
            1,
            2,
            3,
            4,
            5,
            6,
            7,
            8,
            9,
            10,
            11,
            12,
            13,
            14,
            15,
            16,
            17,
            18,
            19,
            20,
            21,
            22,
            23
           ],
           "xaxis": "x",
           "y": [
            100,
            101,
            102.01,
            103.03010000000002,
            104.060401,
            105.10100501000001,
            106.15201506010001,
            107.21353521070101,
            108.28567056280802,
            109.36852726843608,
            110.46221254112045,
            111.56683466653166,
            112.68250301319698,
            113.80932804332895,
            114.94742132376226,
            116.09689553699987,
            117.25786449236988,
            118.43044313729357,
            119.6147475686665,
            120.81089504435316,
            122.0190039947967,
            123.23919403474468,
            124.47158597509211,
            125.71630183484304
           ],
           "yaxis": "y"
          }
         ],
         "name": "1.0"
        },
        {
         "data": [
          {
           "hovertemplate": "Interest rate (%)=1.25<br>Expiry date (y)=%{x}<br>Forward price ($)=%{y}<extra></extra>",
           "legendgroup": "",
           "marker": {
            "color": "#636efa",
            "symbol": "circle"
           },
           "mode": "markers",
           "name": "",
           "orientation": "v",
           "showlegend": false,
           "type": "scatter",
           "x": [
            0,
            1,
            2,
            3,
            4,
            5,
            6,
            7,
            8,
            9,
            10,
            11,
            12,
            13,
            14,
            15,
            16,
            17,
            18,
            19,
            20,
            21,
            22,
            23
           ],
           "xaxis": "x",
           "y": [
            100,
            101.25,
            102.515625,
            103.79707031249998,
            105.09453369140623,
            106.4082153625488,
            107.73831805458065,
            109.08504703026291,
            110.4486101181412,
            111.82921774461796,
            113.22708296642567,
            114.64242150350599,
            116.07545177229981,
            117.52639491945357,
            118.99547485594672,
            120.48291829164603,
            121.98895477029161,
            123.51381670492026,
            125.05773941373175,
            126.6209611564034,
            128.20372317085844,
            129.80626971049415,
            131.42884808187534,
            133.07170868289876
           ],
           "yaxis": "y"
          }
         ],
         "name": "1.25"
        },
        {
         "data": [
          {
           "hovertemplate": "Interest rate (%)=1.5<br>Expiry date (y)=%{x}<br>Forward price ($)=%{y}<extra></extra>",
           "legendgroup": "",
           "marker": {
            "color": "#636efa",
            "symbol": "circle"
           },
           "mode": "markers",
           "name": "",
           "orientation": "v",
           "showlegend": false,
           "type": "scatter",
           "x": [
            0,
            1,
            2,
            3,
            4,
            5,
            6,
            7,
            8,
            9,
            10,
            11,
            12,
            13,
            14,
            15,
            16,
            17,
            18,
            19,
            20,
            21,
            22,
            23
           ],
           "xaxis": "x",
           "y": [
            100,
            101.49999999999999,
            103.02249999999998,
            104.56783749999997,
            106.13635506249996,
            107.72840038843745,
            109.34432639426399,
            110.98449129017796,
            112.64925865953062,
            114.33899753942356,
            116.0540825025149,
            117.79489374005261,
            119.56181714615339,
            121.35524440334568,
            123.17557306939584,
            125.02320666543679,
            126.89855476541831,
            128.80203308689957,
            130.73406358320307,
            132.6950745369511,
            134.68550065500534,
            136.70578316483042,
            138.75636991230286,
            140.83771546098737
           ],
           "yaxis": "y"
          }
         ],
         "name": "1.5"
        },
        {
         "data": [
          {
           "hovertemplate": "Interest rate (%)=1.75<br>Expiry date (y)=%{x}<br>Forward price ($)=%{y}<extra></extra>",
           "legendgroup": "",
           "marker": {
            "color": "#636efa",
            "symbol": "circle"
           },
           "mode": "markers",
           "name": "",
           "orientation": "v",
           "showlegend": false,
           "type": "scatter",
           "x": [
            0,
            1,
            2,
            3,
            4,
            5,
            6,
            7,
            8,
            9,
            10,
            11,
            12,
            13,
            14,
            15,
            16,
            17,
            18,
            19,
            20,
            21,
            22,
            23
           ],
           "xaxis": "x",
           "y": [
            100,
            101.75,
            103.53062500000001,
            105.34241093750003,
            107.18590312890628,
            109.06165643366215,
            110.97023542125125,
            112.91221454112315,
            114.88817829559281,
            116.89872141576569,
            118.9444490405416,
            121.0259768987511,
            123.14393149447925,
            125.29895029563262,
            127.49168192580622,
            129.72278635950784,
            131.99293512079925,
            134.30281148541323,
            136.65311068640798,
            139.04454012342012,
            141.47781957557999,
            143.95368141815263,
            146.4728708429703,
            149.0361460827223
           ],
           "yaxis": "y"
          }
         ],
         "name": "1.75"
        },
        {
         "data": [
          {
           "hovertemplate": "Interest rate (%)=2.0<br>Expiry date (y)=%{x}<br>Forward price ($)=%{y}<extra></extra>",
           "legendgroup": "",
           "marker": {
            "color": "#636efa",
            "symbol": "circle"
           },
           "mode": "markers",
           "name": "",
           "orientation": "v",
           "showlegend": false,
           "type": "scatter",
           "x": [
            0,
            1,
            2,
            3,
            4,
            5,
            6,
            7,
            8,
            9,
            10,
            11,
            12,
            13,
            14,
            15,
            16,
            17,
            18,
            19,
            20,
            21,
            22,
            23
           ],
           "xaxis": "x",
           "y": [
            100,
            102,
            104.03999999999999,
            106.12080000000002,
            108.243216,
            110.40808032,
            112.61624192640001,
            114.868566764928,
            117.16593810022657,
            119.50925686223111,
            121.89944199947573,
            124.33743083946524,
            126.82417945625456,
            129.36066304537965,
            131.94787630628724,
            134.586833832413,
            137.27857050906124,
            140.02414191924248,
            142.82462475762733,
            145.68111725277987,
            148.59473959783548,
            151.5666343897922,
            154.59796707758804,
            157.68992641913982
           ],
           "yaxis": "y"
          }
         ],
         "name": "2.0"
        },
        {
         "data": [
          {
           "hovertemplate": "Interest rate (%)=2.25<br>Expiry date (y)=%{x}<br>Forward price ($)=%{y}<extra></extra>",
           "legendgroup": "",
           "marker": {
            "color": "#636efa",
            "symbol": "circle"
           },
           "mode": "markers",
           "name": "",
           "orientation": "v",
           "showlegend": false,
           "type": "scatter",
           "x": [
            0,
            1,
            2,
            3,
            4,
            5,
            6,
            7,
            8,
            9,
            10,
            11,
            12,
            13,
            14,
            15,
            16,
            17,
            18,
            19,
            20,
            21,
            22,
            23
           ],
           "xaxis": "x",
           "y": [
            100,
            102.25,
            104.55062499999998,
            106.90301406249998,
            109.30833187890623,
            111.76776934618162,
            114.2825441564707,
            116.8539013999913,
            119.48311418149109,
            122.17148425057465,
            124.92034264621256,
            127.73105035575234,
            130.60499898875676,
            133.54361146600377,
            136.54834272398887,
            139.6206804352786,
            142.7621457450724,
            145.9742940243365,
            149.25871563988406,
            152.61703674178145,
            156.05092006847153,
            159.56206577001214,
            163.1522122498374,
            166.82313702545872
           ],
           "yaxis": "y"
          }
         ],
         "name": "2.25"
        },
        {
         "data": [
          {
           "hovertemplate": "Interest rate (%)=2.5<br>Expiry date (y)=%{x}<br>Forward price ($)=%{y}<extra></extra>",
           "legendgroup": "",
           "marker": {
            "color": "#636efa",
            "symbol": "circle"
           },
           "mode": "markers",
           "name": "",
           "orientation": "v",
           "showlegend": false,
           "type": "scatter",
           "x": [
            0,
            1,
            2,
            3,
            4,
            5,
            6,
            7,
            8,
            9,
            10,
            11,
            12,
            13,
            14,
            15,
            16,
            17,
            18,
            19,
            20,
            21,
            22,
            23
           ],
           "xaxis": "x",
           "y": [
            100,
            102.49999999999999,
            105.06249999999999,
            107.68906249999996,
            110.38128906249996,
            113.14082128906244,
            115.96934182128899,
            118.86857536682123,
            121.84028975099173,
            124.88629699476652,
            128.00845441963565,
            131.20866578012655,
            134.4888824246297,
            137.85110448524543,
            141.29738209737656,
            144.82981664981097,
            148.45056206605622,
            152.16182611770762,
            155.9658717706503,
            159.86501856491654,
            163.8616440290394,
            167.9581851297654,
            172.15713975800952,
            176.46106825195974
           ],
           "yaxis": "y"
          }
         ],
         "name": "2.5"
        },
        {
         "data": [
          {
           "hovertemplate": "Interest rate (%)=2.75<br>Expiry date (y)=%{x}<br>Forward price ($)=%{y}<extra></extra>",
           "legendgroup": "",
           "marker": {
            "color": "#636efa",
            "symbol": "circle"
           },
           "mode": "markers",
           "name": "",
           "orientation": "v",
           "showlegend": false,
           "type": "scatter",
           "x": [
            0,
            1,
            2,
            3,
            4,
            5,
            6,
            7,
            8,
            9,
            10,
            11,
            12,
            13,
            14,
            15,
            16,
            17,
            18,
            19,
            20,
            21,
            22,
            23
           ],
           "xaxis": "x",
           "y": [
            100,
            102.75000000000001,
            105.57562500000002,
            108.47895468750002,
            111.46212594140627,
            114.52733440479497,
            117.67683610092683,
            120.91294909370234,
            124.23805519377915,
            127.6546017116081,
            131.1651032586773,
            134.77214359829097,
            138.47837754724398,
            142.2865329297932,
            146.19941258536252,
            150.21989643146,
            154.35094358332518,
            158.59559453186662,
            162.95697338149296,
            167.43829014948403,
            172.04284312859485,
            176.77402131463123,
            181.6353069007836,
            186.63027784055518
           ],
           "yaxis": "y"
          }
         ],
         "name": "2.75"
        },
        {
         "data": [
          {
           "hovertemplate": "Interest rate (%)=3.0<br>Expiry date (y)=%{x}<br>Forward price ($)=%{y}<extra></extra>",
           "legendgroup": "",
           "marker": {
            "color": "#636efa",
            "symbol": "circle"
           },
           "mode": "markers",
           "name": "",
           "orientation": "v",
           "showlegend": false,
           "type": "scatter",
           "x": [
            0,
            1,
            2,
            3,
            4,
            5,
            6,
            7,
            8,
            9,
            10,
            11,
            12,
            13,
            14,
            15,
            16,
            17,
            18,
            19,
            20,
            21,
            22,
            23
           ],
           "xaxis": "x",
           "y": [
            100,
            103,
            106.08999999999999,
            109.2727,
            112.55088100000002,
            115.92740743,
            119.40522965290002,
            122.98738654248702,
            126.67700813876164,
            130.4773183829245,
            134.39163793441222,
            138.4233870724446,
            142.57608868461793,
            146.8533713451565,
            151.25897248551118,
            155.79674166007652,
            160.47064390987882,
            165.28476322717518,
            170.24330612399046,
            175.35060530771017,
            180.61112346694148,
            186.0294571709497,
            191.61034088607823,
            197.35865111266057
           ],
           "yaxis": "y"
          }
         ],
         "name": "3.0"
        },
        {
         "data": [
          {
           "hovertemplate": "Interest rate (%)=3.25<br>Expiry date (y)=%{x}<br>Forward price ($)=%{y}<extra></extra>",
           "legendgroup": "",
           "marker": {
            "color": "#636efa",
            "symbol": "circle"
           },
           "mode": "markers",
           "name": "",
           "orientation": "v",
           "showlegend": false,
           "type": "scatter",
           "x": [
            0,
            1,
            2,
            3,
            4,
            5,
            6,
            7,
            8,
            9,
            10,
            11,
            12,
            13,
            14,
            15,
            16,
            17,
            18,
            19,
            20,
            21,
            22,
            23
           ],
           "xaxis": "x",
           "y": [
            100,
            103.25,
            106.60562499999999,
            110.0703078125,
            113.64759281640625,
            117.34113958293943,
            121.15472661938496,
            125.09225523451497,
            129.1577535296367,
            133.3553805193499,
            137.68943038622876,
            142.1643368737812,
            146.78467782217908,
            151.5551798513999,
            156.48072319657038,
            161.56634670045892,
            166.81725296822384,
            172.23881368969109,
            177.83657513460608,
            183.61626382648075,
            189.5837924008414,
            195.74526565386873,
            202.10698678761943,
            208.67546385821706
           ],
           "yaxis": "y"
          }
         ],
         "name": "3.25"
        },
        {
         "data": [
          {
           "hovertemplate": "Interest rate (%)=3.5<br>Expiry date (y)=%{x}<br>Forward price ($)=%{y}<extra></extra>",
           "legendgroup": "",
           "marker": {
            "color": "#636efa",
            "symbol": "circle"
           },
           "mode": "markers",
           "name": "",
           "orientation": "v",
           "showlegend": false,
           "type": "scatter",
           "x": [
            0,
            1,
            2,
            3,
            4,
            5,
            6,
            7,
            8,
            9,
            10,
            11,
            12,
            13,
            14,
            15,
            16,
            17,
            18,
            19,
            20,
            21,
            22,
            23
           ],
           "xaxis": "x",
           "y": [
            100,
            103.49999999999999,
            107.12249999999999,
            110.87178749999997,
            114.75230006249997,
            118.76863056468746,
            122.9255326344515,
            127.22792627665729,
            131.6809036963403,
            136.2897353257122,
            141.0598760621121,
            145.99697172428603,
            151.10686573463602,
            156.39560603534827,
            161.86945224658544,
            167.53488307521593,
            173.39860398284847,
            179.46755512224814,
            185.74891955152682,
            192.25013173583025,
            198.9788863465843,
            205.94314736871473,
            213.1511575266197,
            220.61144804005139
           ],
           "yaxis": "y"
          }
         ],
         "name": "3.5"
        },
        {
         "data": [
          {
           "hovertemplate": "Interest rate (%)=3.75<br>Expiry date (y)=%{x}<br>Forward price ($)=%{y}<extra></extra>",
           "legendgroup": "",
           "marker": {
            "color": "#636efa",
            "symbol": "circle"
           },
           "mode": "markers",
           "name": "",
           "orientation": "v",
           "showlegend": false,
           "type": "scatter",
           "x": [
            0,
            1,
            2,
            3,
            4,
            5,
            6,
            7,
            8,
            9,
            10,
            11,
            12,
            13,
            14,
            15,
            16,
            17,
            18,
            19,
            20,
            21,
            22,
            23
           ],
           "xaxis": "x",
           "y": [
            100,
            103.75000000000001,
            107.64062500000003,
            111.67714843750002,
            115.86504150390628,
            120.20998056030278,
            124.71785483131414,
            129.39477438748844,
            134.24707842701926,
            139.2813438680325,
            144.50439426308375,
            149.9233090479494,
            155.5454331372475,
            161.3783868798943,
            167.43007638789035,
            173.70870425243626,
            180.22278066190262,
            186.981134936724,
            193.99292749685117,
            201.2676622779831,
            208.81519961340746,
            216.64576959891028,
            224.76998595886943,
            233.19886043232705
           ],
           "yaxis": "y"
          }
         ],
         "name": "3.75"
        },
        {
         "data": [
          {
           "hovertemplate": "Interest rate (%)=4.0<br>Expiry date (y)=%{x}<br>Forward price ($)=%{y}<extra></extra>",
           "legendgroup": "",
           "marker": {
            "color": "#636efa",
            "symbol": "circle"
           },
           "mode": "markers",
           "name": "",
           "orientation": "v",
           "showlegend": false,
           "type": "scatter",
           "x": [
            0,
            1,
            2,
            3,
            4,
            5,
            6,
            7,
            8,
            9,
            10,
            11,
            12,
            13,
            14,
            15,
            16,
            17,
            18,
            19,
            20,
            21,
            22,
            23
           ],
           "xaxis": "x",
           "y": [
            100,
            104,
            108.16000000000001,
            112.4864,
            116.98585600000003,
            121.66529024000002,
            126.53190184960003,
            131.59317792358402,
            136.85690504052738,
            142.3311812421485,
            148.02442849183444,
            153.94540563150784,
            160.10322185676816,
            166.50735073103888,
            173.16764476028044,
            180.09435055069164,
            187.29812457271933,
            194.79004955562812,
            202.58165153785325,
            210.6849175993674,
            219.1123143033421,
            227.87680687547578,
            236.9918791504948,
            246.4715543165146
           ],
           "yaxis": "y"
          }
         ],
         "name": "4.0"
        },
        {
         "data": [
          {
           "hovertemplate": "Interest rate (%)=4.25<br>Expiry date (y)=%{x}<br>Forward price ($)=%{y}<extra></extra>",
           "legendgroup": "",
           "marker": {
            "color": "#636efa",
            "symbol": "circle"
           },
           "mode": "markers",
           "name": "",
           "orientation": "v",
           "showlegend": false,
           "type": "scatter",
           "x": [
            0,
            1,
            2,
            3,
            4,
            5,
            6,
            7,
            8,
            9,
            10,
            11,
            12,
            13,
            14,
            15,
            16,
            17,
            18,
            19,
            20,
            21,
            22,
            23
           ],
           "xaxis": "x",
           "y": [
            100,
            104.25,
            108.68062499999999,
            113.2995515625,
            118.11478250390624,
            123.13466076032225,
            128.36788384263596,
            133.82351890594796,
            139.51101845945075,
            145.4402367439774,
            151.62144680559646,
            158.0653582948343,
            164.78313602236477,
            171.78641930331526,
            179.08734212370615,
            186.69855416396365,
            194.6332427159321,
            202.90515553135924,
            211.52862464144198,
            220.51859118870328,
            229.89063131422313,
            239.66098314507764,
            249.84657492874342,
            260.465054363215
           ],
           "yaxis": "y"
          }
         ],
         "name": "4.25"
        },
        {
         "data": [
          {
           "hovertemplate": "Interest rate (%)=4.5<br>Expiry date (y)=%{x}<br>Forward price ($)=%{y}<extra></extra>",
           "legendgroup": "",
           "marker": {
            "color": "#636efa",
            "symbol": "circle"
           },
           "mode": "markers",
           "name": "",
           "orientation": "v",
           "showlegend": false,
           "type": "scatter",
           "x": [
            0,
            1,
            2,
            3,
            4,
            5,
            6,
            7,
            8,
            9,
            10,
            11,
            12,
            13,
            14,
            15,
            16,
            17,
            18,
            19,
            20,
            21,
            22,
            23
           ],
           "xaxis": "x",
           "y": [
            100,
            104.5,
            109.20249999999999,
            114.11661249999997,
            119.25186006249997,
            124.61819376531247,
            130.22601248475152,
            136.0861830465653,
            142.21006128366074,
            148.60951404142546,
            155.2969421732896,
            162.28530457108764,
            169.58814327678655,
            177.21960972424193,
            185.1944921618328,
            193.52824430911528,
            202.23701530302546,
            211.33768099166156,
            220.84787663628634,
            230.7860310849192,
            241.1714024837406,
            252.02411559550887,
            263.3652007973068,
            275.21663483318554
           ],
           "yaxis": "y"
          }
         ],
         "name": "4.5"
        },
        {
         "data": [
          {
           "hovertemplate": "Interest rate (%)=4.75<br>Expiry date (y)=%{x}<br>Forward price ($)=%{y}<extra></extra>",
           "legendgroup": "",
           "marker": {
            "color": "#636efa",
            "symbol": "circle"
           },
           "mode": "markers",
           "name": "",
           "orientation": "v",
           "showlegend": false,
           "type": "scatter",
           "x": [
            0,
            1,
            2,
            3,
            4,
            5,
            6,
            7,
            8,
            9,
            10,
            11,
            12,
            13,
            14,
            15,
            16,
            17,
            18,
            19,
            20,
            21,
            22,
            23
           ],
           "xaxis": "x",
           "y": [
            100,
            104.75000000000001,
            109.72562500000002,
            114.93759218750003,
            120.3971278164063,
            126.11599138768561,
            132.10650097860068,
            138.38155977508424,
            144.95468386440075,
            151.8400313479598,
            159.0524328369879,
            166.60742339674485,
            174.52127600809024,
            182.81103661847453,
            191.4945608578521,
            200.59055249860006,
            210.11860374228363,
            220.09923742004213,
            230.55395119749411,
            241.50526387937515,
            252.97676391364544,
            264.99316019954364,
            277.580335309022,
            290.76540123620055
           ],
           "yaxis": "y"
          }
         ],
         "name": "4.75"
        },
        {
         "data": [
          {
           "hovertemplate": "Interest rate (%)=5.0<br>Expiry date (y)=%{x}<br>Forward price ($)=%{y}<extra></extra>",
           "legendgroup": "",
           "marker": {
            "color": "#636efa",
            "symbol": "circle"
           },
           "mode": "markers",
           "name": "",
           "orientation": "v",
           "showlegend": false,
           "type": "scatter",
           "x": [
            0,
            1,
            2,
            3,
            4,
            5,
            6,
            7,
            8,
            9,
            10,
            11,
            12,
            13,
            14,
            15,
            16,
            17,
            18,
            19,
            20,
            21,
            22,
            23
           ],
           "xaxis": "x",
           "y": [
            100,
            105,
            110.25,
            115.76250000000002,
            121.55062500000003,
            127.62815625000003,
            134.00956406250003,
            140.71004226562505,
            147.7455443789063,
            155.13282159785163,
            162.8894626777442,
            171.0339358116314,
            179.585632602213,
            188.56491423232367,
            197.99315994393987,
            207.89281794113688,
            218.2874588381937,
            229.20183178010342,
            240.66192336910856,
            252.69501953756404,
            265.3297705144422,
            278.59625904016434,
            292.5260719921726,
            307.1523755917812
           ],
           "yaxis": "y"
          }
         ],
         "name": "5.0"
        },
        {
         "data": [
          {
           "hovertemplate": "Interest rate (%)=5.25<br>Expiry date (y)=%{x}<br>Forward price ($)=%{y}<extra></extra>",
           "legendgroup": "",
           "marker": {
            "color": "#636efa",
            "symbol": "circle"
           },
           "mode": "markers",
           "name": "",
           "orientation": "v",
           "showlegend": false,
           "type": "scatter",
           "x": [
            0,
            1,
            2,
            3,
            4,
            5,
            6,
            7,
            8,
            9,
            10,
            11,
            12,
            13,
            14,
            15,
            16,
            17,
            18,
            19,
            20,
            21,
            22,
            23
           ],
           "xaxis": "x",
           "y": [
            100,
            105.25,
            110.775625,
            116.5913453125,
            122.71239094140624,
            129.15479146583007,
            135.93541801778613,
            143.0720274637199,
            150.58330890556522,
            158.4889326231074,
            166.80960158582053,
            175.56710566907608,
            184.78437871670258,
            194.48555859932947,
            204.69605042579428,
            215.44259307314846,
            226.75332920948875,
            238.65787899298692,
            251.18741764011872,
            264.37475706622496,
            278.2544318122018,
            292.8627894823424,
            308.23808593016537,
            324.42058544149904
           ],
           "yaxis": "y"
          }
         ],
         "name": "5.25"
        },
        {
         "data": [
          {
           "hovertemplate": "Interest rate (%)=5.5<br>Expiry date (y)=%{x}<br>Forward price ($)=%{y}<extra></extra>",
           "legendgroup": "",
           "marker": {
            "color": "#636efa",
            "symbol": "circle"
           },
           "mode": "markers",
           "name": "",
           "orientation": "v",
           "showlegend": false,
           "type": "scatter",
           "x": [
            0,
            1,
            2,
            3,
            4,
            5,
            6,
            7,
            8,
            9,
            10,
            11,
            12,
            13,
            14,
            15,
            16,
            17,
            18,
            19,
            20,
            21,
            22,
            23
           ],
           "xaxis": "x",
           "y": [
            100,
            105.5,
            111.3025,
            117.42413749999999,
            123.88246506249997,
            130.69600064093748,
            137.884280676189,
            145.4679161133794,
            153.46865149961525,
            161.90942733209408,
            170.81444583535927,
            180.209240356304,
            190.1207485759007,
            200.57738974757524,
            211.60914618369185,
            223.24764922379492,
            235.5262699311036,
            248.48021477731427,
            262.1466265900666,
            276.56469105252023,
            291.77574906040877,
            307.82341525873125,
            324.7537030979615,
            342.6151567683493
           ],
           "yaxis": "y"
          }
         ],
         "name": "5.5"
        },
        {
         "data": [
          {
           "hovertemplate": "Interest rate (%)=5.75<br>Expiry date (y)=%{x}<br>Forward price ($)=%{y}<extra></extra>",
           "legendgroup": "",
           "marker": {
            "color": "#636efa",
            "symbol": "circle"
           },
           "mode": "markers",
           "name": "",
           "orientation": "v",
           "showlegend": false,
           "type": "scatter",
           "x": [
            0,
            1,
            2,
            3,
            4,
            5,
            6,
            7,
            8,
            9,
            10,
            11,
            12,
            13,
            14,
            15,
            16,
            17,
            18,
            19,
            20,
            21,
            22,
            23
           ],
           "xaxis": "x",
           "y": [
            100,
            105.75000000000001,
            111.83062500000003,
            118.26088593750003,
            125.0608868789063,
            132.2518878744434,
            139.85637142722393,
            147.89811278428934,
            156.402254269386,
            165.3953838898757,
            174.90561846354356,
            184.96269152519733,
            195.5980462878962,
            206.84493394945025,
            218.73851765154367,
            231.31598241650747,
            244.61665140545662,
            258.6821088612704,
            273.5563301207935,
            289.28581910273914,
            305.9197537011467,
            323.5101395389627,
            342.11197256245305,
            361.78341098479416
           ],
           "yaxis": "y"
          }
         ],
         "name": "5.75"
        },
        {
         "data": [
          {
           "hovertemplate": "Interest rate (%)=6.0<br>Expiry date (y)=%{x}<br>Forward price ($)=%{y}<extra></extra>",
           "legendgroup": "",
           "marker": {
            "color": "#636efa",
            "symbol": "circle"
           },
           "mode": "markers",
           "name": "",
           "orientation": "v",
           "showlegend": false,
           "type": "scatter",
           "x": [
            0,
            1,
            2,
            3,
            4,
            5,
            6,
            7,
            8,
            9,
            10,
            11,
            12,
            13,
            14,
            15,
            16,
            17,
            18,
            19,
            20,
            21,
            22,
            23
           ],
           "xaxis": "x",
           "y": [
            100,
            106,
            112.36000000000001,
            119.1016,
            126.24769600000003,
            133.82255776000002,
            141.85191122560005,
            150.36302589913606,
            159.38480745308422,
            168.9478959002693,
            179.08476965428545,
            189.82985583354258,
            201.21964718355514,
            213.29282601456848,
            226.0903955754426,
            239.65581930996916,
            254.03516846856732,
            269.27727857668134,
            285.4339152912823,
            302.55995020875923,
            320.7135472212848,
            339.9563600545619,
            360.35374165783566,
            381.9749661573058
           ],
           "yaxis": "y"
          }
         ],
         "name": "6.0"
        },
        {
         "data": [
          {
           "hovertemplate": "Interest rate (%)=6.25<br>Expiry date (y)=%{x}<br>Forward price ($)=%{y}<extra></extra>",
           "legendgroup": "",
           "marker": {
            "color": "#636efa",
            "symbol": "circle"
           },
           "mode": "markers",
           "name": "",
           "orientation": "v",
           "showlegend": false,
           "type": "scatter",
           "x": [
            0,
            1,
            2,
            3,
            4,
            5,
            6,
            7,
            8,
            9,
            10,
            11,
            12,
            13,
            14,
            15,
            16,
            17,
            18,
            19,
            20,
            21,
            22,
            23
           ],
           "xaxis": "x",
           "y": [
            100,
            106.25,
            112.890625,
            119.9462890625,
            127.44293212890625,
            135.4081153869629,
            143.87112259864807,
            152.86306776106358,
            162.41700949613005,
            172.56807258963818,
            183.35357712649056,
            194.81317569689622,
            206.98899917795222,
            219.92581162657422,
            233.67117485323513,
            248.27562328156233,
            263.79284973666,
            280.27990284520126,
            297.7973967730263,
            316.40973407134044,
            336.1853424507992,
            357.19692635397416,
            379.52173425109754,
            403.24184264179115
           ],
           "yaxis": "y"
          }
         ],
         "name": "6.25"
        },
        {
         "data": [
          {
           "hovertemplate": "Interest rate (%)=6.5<br>Expiry date (y)=%{x}<br>Forward price ($)=%{y}<extra></extra>",
           "legendgroup": "",
           "marker": {
            "color": "#636efa",
            "symbol": "circle"
           },
           "mode": "markers",
           "name": "",
           "orientation": "v",
           "showlegend": false,
           "type": "scatter",
           "x": [
            0,
            1,
            2,
            3,
            4,
            5,
            6,
            7,
            8,
            9,
            10,
            11,
            12,
            13,
            14,
            15,
            16,
            17,
            18,
            19,
            20,
            21,
            22,
            23
           ],
           "xaxis": "x",
           "y": [
            100,
            106.5,
            113.42249999999999,
            120.7949625,
            128.64663506249997,
            137.00866634156245,
            145.914229653764,
            155.39865458125868,
            165.49956712904049,
            176.2570389924281,
            187.71374652693592,
            199.91514005118674,
            212.90962415451386,
            226.74874972455729,
            241.48741845665347,
            257.18410065633594,
            273.90106719899774,
            291.7046365669326,
            310.6654379437832,
            330.85869141012904,
            352.36450635178744,
            375.2681992646536,
            399.66063221685613,
            425.6385733109517
           ],
           "yaxis": "y"
          }
         ],
         "name": "6.5"
        },
        {
         "data": [
          {
           "hovertemplate": "Interest rate (%)=6.75<br>Expiry date (y)=%{x}<br>Forward price ($)=%{y}<extra></extra>",
           "legendgroup": "",
           "marker": {
            "color": "#636efa",
            "symbol": "circle"
           },
           "mode": "markers",
           "name": "",
           "orientation": "v",
           "showlegend": false,
           "type": "scatter",
           "x": [
            0,
            1,
            2,
            3,
            4,
            5,
            6,
            7,
            8,
            9,
            10,
            11,
            12,
            13,
            14,
            15,
            16,
            17,
            18,
            19,
            20,
            21,
            22,
            23
           ],
           "xaxis": "x",
           "y": [
            100,
            106.74999999999999,
            113.95562499999998,
            121.64762968749996,
            129.8588446914062,
            138.62431670807612,
            147.98145808587122,
            157.97020650666752,
            168.63319544586756,
            180.01593613846362,
            192.16701182780986,
            205.13828512618701,
            218.98511937220465,
            233.7666149298284,
            249.54586143759178,
            266.3902070846292,
            284.3715460628417,
            303.56662542208346,
            324.057372638074,
            345.931245291144,
            369.2816043482962,
            394.2081126418061,
            420.817160245128,
            449.2223185616742
           ],
           "yaxis": "y"
          }
         ],
         "name": "6.75"
        },
        {
         "data": [
          {
           "hovertemplate": "Interest rate (%)=7.0<br>Expiry date (y)=%{x}<br>Forward price ($)=%{y}<extra></extra>",
           "legendgroup": "",
           "marker": {
            "color": "#636efa",
            "symbol": "circle"
           },
           "mode": "markers",
           "name": "",
           "orientation": "v",
           "showlegend": false,
           "type": "scatter",
           "x": [
            0,
            1,
            2,
            3,
            4,
            5,
            6,
            7,
            8,
            9,
            10,
            11,
            12,
            13,
            14,
            15,
            16,
            17,
            18,
            19,
            20,
            21,
            22,
            23
           ],
           "xaxis": "x",
           "y": [
            100,
            107,
            114.49000000000001,
            122.50430000000001,
            131.07960100000003,
            140.25517307000004,
            150.07303518490005,
            160.57814764784305,
            171.8186179831921,
            183.84592124201555,
            196.71513572895665,
            210.48519522998365,
            225.2191588960825,
            240.98450001880826,
            257.8534150201249,
            275.9031540715336,
            295.216374856541,
            315.8815210964989,
            337.9932275732538,
            361.65275350338163,
            386.96844624861836,
            414.0562374860217,
            443.04017411004327,
            474.05298629774626
           ],
           "yaxis": "y"
          }
         ],
         "name": "7.0"
        },
        {
         "data": [
          {
           "hovertemplate": "Interest rate (%)=7.25<br>Expiry date (y)=%{x}<br>Forward price ($)=%{y}<extra></extra>",
           "legendgroup": "",
           "marker": {
            "color": "#636efa",
            "symbol": "circle"
           },
           "mode": "markers",
           "name": "",
           "orientation": "v",
           "showlegend": false,
           "type": "scatter",
           "x": [
            0,
            1,
            2,
            3,
            4,
            5,
            6,
            7,
            8,
            9,
            10,
            11,
            12,
            13,
            14,
            15,
            16,
            17,
            18,
            19,
            20,
            21,
            22,
            23
           ],
           "xaxis": "x",
           "y": [
            100,
            107.25,
            115.02562499999999,
            123.36498281250002,
            132.30894406640624,
            141.90134251122072,
            152.1891898432842,
            163.22290610692232,
            175.0565667996742,
            187.74816789265057,
            201.35991006486776,
            215.95850354457068,
            231.61549505155202,
            248.40761844278956,
            266.41717077989176,
            285.73241566143395,
            306.4480157968879,
            328.6654969421623,
            352.4937454704691,
            378.04954201707807,
            405.45813381331624,
            434.85384851478165,
            466.3807525321033,
            500.1933570906808
           ],
           "yaxis": "y"
          }
         ],
         "name": "7.25"
        },
        {
         "data": [
          {
           "hovertemplate": "Interest rate (%)=7.5<br>Expiry date (y)=%{x}<br>Forward price ($)=%{y}<extra></extra>",
           "legendgroup": "",
           "marker": {
            "color": "#636efa",
            "symbol": "circle"
           },
           "mode": "markers",
           "name": "",
           "orientation": "v",
           "showlegend": false,
           "type": "scatter",
           "x": [
            0,
            1,
            2,
            3,
            4,
            5,
            6,
            7,
            8,
            9,
            10,
            11,
            12,
            13,
            14,
            15,
            16,
            17,
            18,
            19,
            20,
            21,
            22,
            23
           ],
           "xaxis": "x",
           "y": [
            100,
            107.5,
            115.56249999999999,
            124.22968749999998,
            133.54691406249998,
            143.56293261718747,
            154.33015256347653,
            165.90491400573725,
            178.34778255616754,
            191.7238662478801,
            206.10315621647112,
            221.56089293270642,
            238.1779599026594,
            256.04130689535884,
            275.24440491251073,
            295.887735280949,
            318.0793154270202,
            341.9352640840467,
            367.58040889035016,
            395.1489395571264,
            424.78511002391093,
            456.64399327570425,
            490.892292771382,
            527.7092147292357
           ],
           "yaxis": "y"
          }
         ],
         "name": "7.5"
        },
        {
         "data": [
          {
           "hovertemplate": "Interest rate (%)=7.75<br>Expiry date (y)=%{x}<br>Forward price ($)=%{y}<extra></extra>",
           "legendgroup": "",
           "marker": {
            "color": "#636efa",
            "symbol": "circle"
           },
           "mode": "markers",
           "name": "",
           "orientation": "v",
           "showlegend": false,
           "type": "scatter",
           "x": [
            0,
            1,
            2,
            3,
            4,
            5,
            6,
            7,
            8,
            9,
            10,
            11,
            12,
            13,
            14,
            15,
            16,
            17,
            18,
            19,
            20,
            21,
            22,
            23
           ],
           "xaxis": "x",
           "y": [
            100,
            107.74999999999999,
            116.10062499999998,
            125.09842343749997,
            134.7935512539062,
            145.24005147608392,
            156.4961554654804,
            168.62460751405513,
            181.69301459639436,
            195.77422322761493,
            210.94672552775506,
            227.29509675615606,
            244.91046675475815,
            263.89102792825184,
            284.3425825926913,
            306.3791327436249,
            330.1235155312558,
            355.7080879849281,
            383.27546480376,
            412.9793133260514,
            444.98521010882024,
            479.4715638922538,
            516.6306100939034,
            556.6694823761809
           ],
           "yaxis": "y"
          }
         ],
         "name": "7.75"
        },
        {
         "data": [
          {
           "hovertemplate": "Interest rate (%)=8.0<br>Expiry date (y)=%{x}<br>Forward price ($)=%{y}<extra></extra>",
           "legendgroup": "",
           "marker": {
            "color": "#636efa",
            "symbol": "circle"
           },
           "mode": "markers",
           "name": "",
           "orientation": "v",
           "showlegend": false,
           "type": "scatter",
           "x": [
            0,
            1,
            2,
            3,
            4,
            5,
            6,
            7,
            8,
            9,
            10,
            11,
            12,
            13,
            14,
            15,
            16,
            17,
            18,
            19,
            20,
            21,
            22,
            23
           ],
           "xaxis": "x",
           "y": [
            100,
            108,
            116.64000000000001,
            125.97120000000001,
            136.04889600000004,
            146.93280768000005,
            158.68743229440005,
            171.3824268779521,
            185.09302102818825,
            199.90046271044332,
            215.89249972727882,
            233.16389970546112,
            251.81701168189804,
            271.9623726164499,
            293.7193624257659,
            317.21691141982717,
            342.5942643334134,
            370.00180548008655,
            399.6019499184934,
            431.5701059119729,
            466.09571438493083,
            503.3833715357253,
            543.6540412585833,
            587.1463645592701
           ],
           "yaxis": "y"
          }
         ],
         "name": "8.0"
        },
        {
         "data": [
          {
           "hovertemplate": "Interest rate (%)=8.25<br>Expiry date (y)=%{x}<br>Forward price ($)=%{y}<extra></extra>",
           "legendgroup": "",
           "marker": {
            "color": "#636efa",
            "symbol": "circle"
           },
           "mode": "markers",
           "name": "",
           "orientation": "v",
           "showlegend": false,
           "type": "scatter",
           "x": [
            0,
            1,
            2,
            3,
            4,
            5,
            6,
            7,
            8,
            9,
            10,
            11,
            12,
            13,
            14,
            15,
            16,
            17,
            18,
            19,
            20,
            21,
            22,
            23
           ],
           "xaxis": "x",
           "y": [
            100,
            108.25,
            117.18062499999999,
            126.84802656250001,
            137.31298875390624,
            148.64131032610354,
            160.90421842800706,
            174.17881644831766,
            188.54856880530386,
            204.10382573174144,
            220.94239135461012,
            239.17013864136547,
            258.9016750792781,
            280.26106327331854,
            303.38260099336736,
            328.41166557532017,
            355.5056279852841,
            384.83484229407,
            416.5837167833308,
            450.9518734179556,
            488.155402974937,
            528.4282237203693,
            572.0235521772997,
            619.2154952319269
           ],
           "yaxis": "y"
          }
         ],
         "name": "8.25"
        },
        {
         "data": [
          {
           "hovertemplate": "Interest rate (%)=8.5<br>Expiry date (y)=%{x}<br>Forward price ($)=%{y}<extra></extra>",
           "legendgroup": "",
           "marker": {
            "color": "#636efa",
            "symbol": "circle"
           },
           "mode": "markers",
           "name": "",
           "orientation": "v",
           "showlegend": false,
           "type": "scatter",
           "x": [
            0,
            1,
            2,
            3,
            4,
            5,
            6,
            7,
            8,
            9,
            10,
            11,
            12,
            13,
            14,
            15,
            16,
            17,
            18,
            19,
            20,
            21,
            22,
            23
           ],
           "xaxis": "x",
           "y": [
            100,
            108.5,
            117.7225,
            127.72891249999998,
            138.5858700625,
            150.36566901781248,
            163.14675088432654,
            177.01422470949427,
            192.06043380980128,
            208.3855706836344,
            226.09834419174328,
            245.31670344804147,
            266.168623241125,
            288.7929562166206,
            313.34035749503335,
            339.9742878821112,
            368.8721023520906,
            400.2262310520183,
            434.24546069143986,
            471.1563248502122,
            511.2046124624802,
            554.657004521791,
            601.8028499061433,
            652.9560921481655
           ],
           "yaxis": "y"
          }
         ],
         "name": "8.5"
        },
        {
         "data": [
          {
           "hovertemplate": "Interest rate (%)=8.75<br>Expiry date (y)=%{x}<br>Forward price ($)=%{y}<extra></extra>",
           "legendgroup": "",
           "marker": {
            "color": "#636efa",
            "symbol": "circle"
           },
           "mode": "markers",
           "name": "",
           "orientation": "v",
           "showlegend": false,
           "type": "scatter",
           "x": [
            0,
            1,
            2,
            3,
            4,
            5,
            6,
            7,
            8,
            9,
            10,
            11,
            12,
            13,
            14,
            15,
            16,
            17,
            18,
            19,
            20,
            21,
            22,
            23
           ],
           "xaxis": "x",
           "y": [
            100,
            108.74999999999999,
            118.26562499999997,
            128.61386718749998,
            139.8675805664062,
            152.10599386596672,
            165.4152683292388,
            179.8891043080472,
            195.62940093500129,
            212.74697351681388,
            231.3623336995351,
            251.6065378982444,
            273.6221099643408,
            297.5640445862206,
            323.6008984875148,
            351.9159771051724,
            382.7086251018749,
            416.1956297982889,
            452.61274740563914,
            492.21636280363253,
            535.2852945489503,
            582.1227578219834,
            633.058499131407,
            688.451117805405
           ],
           "yaxis": "y"
          }
         ],
         "name": "8.75"
        },
        {
         "data": [
          {
           "hovertemplate": "Interest rate (%)=9.0<br>Expiry date (y)=%{x}<br>Forward price ($)=%{y}<extra></extra>",
           "legendgroup": "",
           "marker": {
            "color": "#636efa",
            "symbol": "circle"
           },
           "mode": "markers",
           "name": "",
           "orientation": "v",
           "showlegend": false,
           "type": "scatter",
           "x": [
            0,
            1,
            2,
            3,
            4,
            5,
            6,
            7,
            8,
            9,
            10,
            11,
            12,
            13,
            14,
            15,
            16,
            17,
            18,
            19,
            20,
            21,
            22,
            23
           ],
           "xaxis": "x",
           "y": [
            100,
            109.00000000000001,
            118.81000000000002,
            129.5029,
            141.15816100000004,
            153.86239549000004,
            167.71001108410007,
            182.8039120816691,
            199.25626416901935,
            217.18932794423108,
            236.73636745921192,
            258.042640530541,
            281.2664781782897,
            306.5804612143358,
            334.17270272362606,
            364.2482459687524,
            397.0305881059402,
            432.7633410354748,
            471.7120417286676,
            514.1661254842477,
            560.4410767778301,
            610.8807736878348,
            665.8600433197399,
            725.7874472185166
           ],
           "yaxis": "y"
          }
         ],
         "name": "9.0"
        },
        {
         "data": [
          {
           "hovertemplate": "Interest rate (%)=9.25<br>Expiry date (y)=%{x}<br>Forward price ($)=%{y}<extra></extra>",
           "legendgroup": "",
           "marker": {
            "color": "#636efa",
            "symbol": "circle"
           },
           "mode": "markers",
           "name": "",
           "orientation": "v",
           "showlegend": false,
           "type": "scatter",
           "x": [
            0,
            1,
            2,
            3,
            4,
            5,
            6,
            7,
            8,
            9,
            10,
            11,
            12,
            13,
            14,
            15,
            16,
            17,
            18,
            19,
            20,
            21,
            22,
            23
           ],
           "xaxis": "x",
           "y": [
            100,
            109.25,
            119.355625,
            130.3960203125,
            142.45765219140628,
            155.63498501911135,
            170.03122113337915,
            185.75910908821675,
            202.94182667887677,
            221.71394564667287,
            242.2224856189901,
            264.62806553874674,
            289.1061616010808,
            315.8484815491808,
            345.06446609248,
            376.98292920603444,
            411.85385015759266,
            449.95033129717,
            491.57073694215813,
            537.0410301093078,
            586.7173253944188,
            640.9886779934026,
            700.2801307077924,
            765.0560427982631
           ],
           "yaxis": "y"
          }
         ],
         "name": "9.25"
        },
        {
         "data": [
          {
           "hovertemplate": "Interest rate (%)=9.5<br>Expiry date (y)=%{x}<br>Forward price ($)=%{y}<extra></extra>",
           "legendgroup": "",
           "marker": {
            "color": "#636efa",
            "symbol": "circle"
           },
           "mode": "markers",
           "name": "",
           "orientation": "v",
           "showlegend": false,
           "type": "scatter",
           "x": [
            0,
            1,
            2,
            3,
            4,
            5,
            6,
            7,
            8,
            9,
            10,
            11,
            12,
            13,
            14,
            15,
            16,
            17,
            18,
            19,
            20,
            21,
            22,
            23
           ],
           "xaxis": "x",
           "y": [
            100,
            109.5,
            119.9025,
            131.2932375,
            143.76609506249997,
            157.4238740934375,
            172.37914213231406,
            188.75516063488388,
            206.68690089519782,
            226.3221564802416,
            247.82276134586456,
            271.3659236737217,
            297.14568642272525,
            325.37452663288417,
            356.28510666300815,
            390.1321917959939,
            427.19475001661334,
            467.7782512681915,
            512.2171851386697,
            560.8778177268434,
            614.1612104108934,
            672.5065253999283,
            736.3946453129214,
            806.352136617649
           ],
           "yaxis": "y"
          }
         ],
         "name": "9.5"
        },
        {
         "data": [
          {
           "hovertemplate": "Interest rate (%)=9.75<br>Expiry date (y)=%{x}<br>Forward price ($)=%{y}<extra></extra>",
           "legendgroup": "",
           "marker": {
            "color": "#636efa",
            "symbol": "circle"
           },
           "mode": "markers",
           "name": "",
           "orientation": "v",
           "showlegend": false,
           "type": "scatter",
           "x": [
            0,
            1,
            2,
            3,
            4,
            5,
            6,
            7,
            8,
            9,
            10,
            11,
            12,
            13,
            14,
            15,
            16,
            17,
            18,
            19,
            20,
            21,
            22,
            23
           ],
           "xaxis": "x",
           "y": [
            100,
            109.74999999999999,
            120.45062499999999,
            132.19456093749997,
            145.0835306289062,
            159.22917486522454,
            174.75401941458392,
            191.79253630750586,
            210.49230859748764,
            231.01530868574267,
            253.53930128260257,
            278.2593831576563,
            305.3896730155278,
            335.1651661345417,
            367.8437698326595,
            403.7085373913437,
            443.0701197869998,
            486.26945646623216,
            533.6807284716898,
            585.7145994976795,
            642.8217729487033,
            705.4968958112017,
            774.2828431527938,
            849.7754203601912
           ],
           "yaxis": "y"
          }
         ],
         "name": "9.75"
        }
       ],
       "layout": {
        "legend": {
         "tracegroupgap": 0
        },
        "sliders": [
         {
          "active": 0,
          "currentvalue": {
           "prefix": "Interest rate (%)="
          },
          "len": 0.9,
          "pad": {
           "b": 10,
           "t": 60
          },
          "steps": [
           {
            "args": [
             [
              "0.0"
             ],
             {
              "frame": {
               "duration": 0,
               "redraw": false
              },
              "fromcurrent": true,
              "mode": "immediate",
              "transition": {
               "duration": 0,
               "easing": "linear"
              }
             }
            ],
            "label": "0.0",
            "method": "animate"
           },
           {
            "args": [
             [
              "0.25"
             ],
             {
              "frame": {
               "duration": 0,
               "redraw": false
              },
              "fromcurrent": true,
              "mode": "immediate",
              "transition": {
               "duration": 0,
               "easing": "linear"
              }
             }
            ],
            "label": "0.25",
            "method": "animate"
           },
           {
            "args": [
             [
              "0.5"
             ],
             {
              "frame": {
               "duration": 0,
               "redraw": false
              },
              "fromcurrent": true,
              "mode": "immediate",
              "transition": {
               "duration": 0,
               "easing": "linear"
              }
             }
            ],
            "label": "0.5",
            "method": "animate"
           },
           {
            "args": [
             [
              "0.75"
             ],
             {
              "frame": {
               "duration": 0,
               "redraw": false
              },
              "fromcurrent": true,
              "mode": "immediate",
              "transition": {
               "duration": 0,
               "easing": "linear"
              }
             }
            ],
            "label": "0.75",
            "method": "animate"
           },
           {
            "args": [
             [
              "1.0"
             ],
             {
              "frame": {
               "duration": 0,
               "redraw": false
              },
              "fromcurrent": true,
              "mode": "immediate",
              "transition": {
               "duration": 0,
               "easing": "linear"
              }
             }
            ],
            "label": "1.0",
            "method": "animate"
           },
           {
            "args": [
             [
              "1.25"
             ],
             {
              "frame": {
               "duration": 0,
               "redraw": false
              },
              "fromcurrent": true,
              "mode": "immediate",
              "transition": {
               "duration": 0,
               "easing": "linear"
              }
             }
            ],
            "label": "1.25",
            "method": "animate"
           },
           {
            "args": [
             [
              "1.5"
             ],
             {
              "frame": {
               "duration": 0,
               "redraw": false
              },
              "fromcurrent": true,
              "mode": "immediate",
              "transition": {
               "duration": 0,
               "easing": "linear"
              }
             }
            ],
            "label": "1.5",
            "method": "animate"
           },
           {
            "args": [
             [
              "1.75"
             ],
             {
              "frame": {
               "duration": 0,
               "redraw": false
              },
              "fromcurrent": true,
              "mode": "immediate",
              "transition": {
               "duration": 0,
               "easing": "linear"
              }
             }
            ],
            "label": "1.75",
            "method": "animate"
           },
           {
            "args": [
             [
              "2.0"
             ],
             {
              "frame": {
               "duration": 0,
               "redraw": false
              },
              "fromcurrent": true,
              "mode": "immediate",
              "transition": {
               "duration": 0,
               "easing": "linear"
              }
             }
            ],
            "label": "2.0",
            "method": "animate"
           },
           {
            "args": [
             [
              "2.25"
             ],
             {
              "frame": {
               "duration": 0,
               "redraw": false
              },
              "fromcurrent": true,
              "mode": "immediate",
              "transition": {
               "duration": 0,
               "easing": "linear"
              }
             }
            ],
            "label": "2.25",
            "method": "animate"
           },
           {
            "args": [
             [
              "2.5"
             ],
             {
              "frame": {
               "duration": 0,
               "redraw": false
              },
              "fromcurrent": true,
              "mode": "immediate",
              "transition": {
               "duration": 0,
               "easing": "linear"
              }
             }
            ],
            "label": "2.5",
            "method": "animate"
           },
           {
            "args": [
             [
              "2.75"
             ],
             {
              "frame": {
               "duration": 0,
               "redraw": false
              },
              "fromcurrent": true,
              "mode": "immediate",
              "transition": {
               "duration": 0,
               "easing": "linear"
              }
             }
            ],
            "label": "2.75",
            "method": "animate"
           },
           {
            "args": [
             [
              "3.0"
             ],
             {
              "frame": {
               "duration": 0,
               "redraw": false
              },
              "fromcurrent": true,
              "mode": "immediate",
              "transition": {
               "duration": 0,
               "easing": "linear"
              }
             }
            ],
            "label": "3.0",
            "method": "animate"
           },
           {
            "args": [
             [
              "3.25"
             ],
             {
              "frame": {
               "duration": 0,
               "redraw": false
              },
              "fromcurrent": true,
              "mode": "immediate",
              "transition": {
               "duration": 0,
               "easing": "linear"
              }
             }
            ],
            "label": "3.25",
            "method": "animate"
           },
           {
            "args": [
             [
              "3.5"
             ],
             {
              "frame": {
               "duration": 0,
               "redraw": false
              },
              "fromcurrent": true,
              "mode": "immediate",
              "transition": {
               "duration": 0,
               "easing": "linear"
              }
             }
            ],
            "label": "3.5",
            "method": "animate"
           },
           {
            "args": [
             [
              "3.75"
             ],
             {
              "frame": {
               "duration": 0,
               "redraw": false
              },
              "fromcurrent": true,
              "mode": "immediate",
              "transition": {
               "duration": 0,
               "easing": "linear"
              }
             }
            ],
            "label": "3.75",
            "method": "animate"
           },
           {
            "args": [
             [
              "4.0"
             ],
             {
              "frame": {
               "duration": 0,
               "redraw": false
              },
              "fromcurrent": true,
              "mode": "immediate",
              "transition": {
               "duration": 0,
               "easing": "linear"
              }
             }
            ],
            "label": "4.0",
            "method": "animate"
           },
           {
            "args": [
             [
              "4.25"
             ],
             {
              "frame": {
               "duration": 0,
               "redraw": false
              },
              "fromcurrent": true,
              "mode": "immediate",
              "transition": {
               "duration": 0,
               "easing": "linear"
              }
             }
            ],
            "label": "4.25",
            "method": "animate"
           },
           {
            "args": [
             [
              "4.5"
             ],
             {
              "frame": {
               "duration": 0,
               "redraw": false
              },
              "fromcurrent": true,
              "mode": "immediate",
              "transition": {
               "duration": 0,
               "easing": "linear"
              }
             }
            ],
            "label": "4.5",
            "method": "animate"
           },
           {
            "args": [
             [
              "4.75"
             ],
             {
              "frame": {
               "duration": 0,
               "redraw": false
              },
              "fromcurrent": true,
              "mode": "immediate",
              "transition": {
               "duration": 0,
               "easing": "linear"
              }
             }
            ],
            "label": "4.75",
            "method": "animate"
           },
           {
            "args": [
             [
              "5.0"
             ],
             {
              "frame": {
               "duration": 0,
               "redraw": false
              },
              "fromcurrent": true,
              "mode": "immediate",
              "transition": {
               "duration": 0,
               "easing": "linear"
              }
             }
            ],
            "label": "5.0",
            "method": "animate"
           },
           {
            "args": [
             [
              "5.25"
             ],
             {
              "frame": {
               "duration": 0,
               "redraw": false
              },
              "fromcurrent": true,
              "mode": "immediate",
              "transition": {
               "duration": 0,
               "easing": "linear"
              }
             }
            ],
            "label": "5.25",
            "method": "animate"
           },
           {
            "args": [
             [
              "5.5"
             ],
             {
              "frame": {
               "duration": 0,
               "redraw": false
              },
              "fromcurrent": true,
              "mode": "immediate",
              "transition": {
               "duration": 0,
               "easing": "linear"
              }
             }
            ],
            "label": "5.5",
            "method": "animate"
           },
           {
            "args": [
             [
              "5.75"
             ],
             {
              "frame": {
               "duration": 0,
               "redraw": false
              },
              "fromcurrent": true,
              "mode": "immediate",
              "transition": {
               "duration": 0,
               "easing": "linear"
              }
             }
            ],
            "label": "5.75",
            "method": "animate"
           },
           {
            "args": [
             [
              "6.0"
             ],
             {
              "frame": {
               "duration": 0,
               "redraw": false
              },
              "fromcurrent": true,
              "mode": "immediate",
              "transition": {
               "duration": 0,
               "easing": "linear"
              }
             }
            ],
            "label": "6.0",
            "method": "animate"
           },
           {
            "args": [
             [
              "6.25"
             ],
             {
              "frame": {
               "duration": 0,
               "redraw": false
              },
              "fromcurrent": true,
              "mode": "immediate",
              "transition": {
               "duration": 0,
               "easing": "linear"
              }
             }
            ],
            "label": "6.25",
            "method": "animate"
           },
           {
            "args": [
             [
              "6.5"
             ],
             {
              "frame": {
               "duration": 0,
               "redraw": false
              },
              "fromcurrent": true,
              "mode": "immediate",
              "transition": {
               "duration": 0,
               "easing": "linear"
              }
             }
            ],
            "label": "6.5",
            "method": "animate"
           },
           {
            "args": [
             [
              "6.75"
             ],
             {
              "frame": {
               "duration": 0,
               "redraw": false
              },
              "fromcurrent": true,
              "mode": "immediate",
              "transition": {
               "duration": 0,
               "easing": "linear"
              }
             }
            ],
            "label": "6.75",
            "method": "animate"
           },
           {
            "args": [
             [
              "7.0"
             ],
             {
              "frame": {
               "duration": 0,
               "redraw": false
              },
              "fromcurrent": true,
              "mode": "immediate",
              "transition": {
               "duration": 0,
               "easing": "linear"
              }
             }
            ],
            "label": "7.0",
            "method": "animate"
           },
           {
            "args": [
             [
              "7.25"
             ],
             {
              "frame": {
               "duration": 0,
               "redraw": false
              },
              "fromcurrent": true,
              "mode": "immediate",
              "transition": {
               "duration": 0,
               "easing": "linear"
              }
             }
            ],
            "label": "7.25",
            "method": "animate"
           },
           {
            "args": [
             [
              "7.5"
             ],
             {
              "frame": {
               "duration": 0,
               "redraw": false
              },
              "fromcurrent": true,
              "mode": "immediate",
              "transition": {
               "duration": 0,
               "easing": "linear"
              }
             }
            ],
            "label": "7.5",
            "method": "animate"
           },
           {
            "args": [
             [
              "7.75"
             ],
             {
              "frame": {
               "duration": 0,
               "redraw": false
              },
              "fromcurrent": true,
              "mode": "immediate",
              "transition": {
               "duration": 0,
               "easing": "linear"
              }
             }
            ],
            "label": "7.75",
            "method": "animate"
           },
           {
            "args": [
             [
              "8.0"
             ],
             {
              "frame": {
               "duration": 0,
               "redraw": false
              },
              "fromcurrent": true,
              "mode": "immediate",
              "transition": {
               "duration": 0,
               "easing": "linear"
              }
             }
            ],
            "label": "8.0",
            "method": "animate"
           },
           {
            "args": [
             [
              "8.25"
             ],
             {
              "frame": {
               "duration": 0,
               "redraw": false
              },
              "fromcurrent": true,
              "mode": "immediate",
              "transition": {
               "duration": 0,
               "easing": "linear"
              }
             }
            ],
            "label": "8.25",
            "method": "animate"
           },
           {
            "args": [
             [
              "8.5"
             ],
             {
              "frame": {
               "duration": 0,
               "redraw": false
              },
              "fromcurrent": true,
              "mode": "immediate",
              "transition": {
               "duration": 0,
               "easing": "linear"
              }
             }
            ],
            "label": "8.5",
            "method": "animate"
           },
           {
            "args": [
             [
              "8.75"
             ],
             {
              "frame": {
               "duration": 0,
               "redraw": false
              },
              "fromcurrent": true,
              "mode": "immediate",
              "transition": {
               "duration": 0,
               "easing": "linear"
              }
             }
            ],
            "label": "8.75",
            "method": "animate"
           },
           {
            "args": [
             [
              "9.0"
             ],
             {
              "frame": {
               "duration": 0,
               "redraw": false
              },
              "fromcurrent": true,
              "mode": "immediate",
              "transition": {
               "duration": 0,
               "easing": "linear"
              }
             }
            ],
            "label": "9.0",
            "method": "animate"
           },
           {
            "args": [
             [
              "9.25"
             ],
             {
              "frame": {
               "duration": 0,
               "redraw": false
              },
              "fromcurrent": true,
              "mode": "immediate",
              "transition": {
               "duration": 0,
               "easing": "linear"
              }
             }
            ],
            "label": "9.25",
            "method": "animate"
           },
           {
            "args": [
             [
              "9.5"
             ],
             {
              "frame": {
               "duration": 0,
               "redraw": false
              },
              "fromcurrent": true,
              "mode": "immediate",
              "transition": {
               "duration": 0,
               "easing": "linear"
              }
             }
            ],
            "label": "9.5",
            "method": "animate"
           },
           {
            "args": [
             [
              "9.75"
             ],
             {
              "frame": {
               "duration": 0,
               "redraw": false
              },
              "fromcurrent": true,
              "mode": "immediate",
              "transition": {
               "duration": 0,
               "easing": "linear"
              }
             }
            ],
            "label": "9.75",
            "method": "animate"
           }
          ],
          "x": 0.1,
          "xanchor": "left",
          "y": 0,
          "yanchor": "top"
         }
        ],
        "template": {
         "data": {
          "bar": [
           {
            "error_x": {
             "color": "#2a3f5f"
            },
            "error_y": {
             "color": "#2a3f5f"
            },
            "marker": {
             "line": {
              "color": "#E5ECF6",
              "width": 0.5
             },
             "pattern": {
              "fillmode": "overlay",
              "size": 10,
              "solidity": 0.2
             }
            },
            "type": "bar"
           }
          ],
          "barpolar": [
           {
            "marker": {
             "line": {
              "color": "#E5ECF6",
              "width": 0.5
             },
             "pattern": {
              "fillmode": "overlay",
              "size": 10,
              "solidity": 0.2
             }
            },
            "type": "barpolar"
           }
          ],
          "carpet": [
           {
            "aaxis": {
             "endlinecolor": "#2a3f5f",
             "gridcolor": "white",
             "linecolor": "white",
             "minorgridcolor": "white",
             "startlinecolor": "#2a3f5f"
            },
            "baxis": {
             "endlinecolor": "#2a3f5f",
             "gridcolor": "white",
             "linecolor": "white",
             "minorgridcolor": "white",
             "startlinecolor": "#2a3f5f"
            },
            "type": "carpet"
           }
          ],
          "choropleth": [
           {
            "colorbar": {
             "outlinewidth": 0,
             "ticks": ""
            },
            "type": "choropleth"
           }
          ],
          "contour": [
           {
            "colorbar": {
             "outlinewidth": 0,
             "ticks": ""
            },
            "colorscale": [
             [
              0,
              "#0d0887"
             ],
             [
              0.1111111111111111,
              "#46039f"
             ],
             [
              0.2222222222222222,
              "#7201a8"
             ],
             [
              0.3333333333333333,
              "#9c179e"
             ],
             [
              0.4444444444444444,
              "#bd3786"
             ],
             [
              0.5555555555555556,
              "#d8576b"
             ],
             [
              0.6666666666666666,
              "#ed7953"
             ],
             [
              0.7777777777777778,
              "#fb9f3a"
             ],
             [
              0.8888888888888888,
              "#fdca26"
             ],
             [
              1,
              "#f0f921"
             ]
            ],
            "type": "contour"
           }
          ],
          "contourcarpet": [
           {
            "colorbar": {
             "outlinewidth": 0,
             "ticks": ""
            },
            "type": "contourcarpet"
           }
          ],
          "heatmap": [
           {
            "colorbar": {
             "outlinewidth": 0,
             "ticks": ""
            },
            "colorscale": [
             [
              0,
              "#0d0887"
             ],
             [
              0.1111111111111111,
              "#46039f"
             ],
             [
              0.2222222222222222,
              "#7201a8"
             ],
             [
              0.3333333333333333,
              "#9c179e"
             ],
             [
              0.4444444444444444,
              "#bd3786"
             ],
             [
              0.5555555555555556,
              "#d8576b"
             ],
             [
              0.6666666666666666,
              "#ed7953"
             ],
             [
              0.7777777777777778,
              "#fb9f3a"
             ],
             [
              0.8888888888888888,
              "#fdca26"
             ],
             [
              1,
              "#f0f921"
             ]
            ],
            "type": "heatmap"
           }
          ],
          "heatmapgl": [
           {
            "colorbar": {
             "outlinewidth": 0,
             "ticks": ""
            },
            "colorscale": [
             [
              0,
              "#0d0887"
             ],
             [
              0.1111111111111111,
              "#46039f"
             ],
             [
              0.2222222222222222,
              "#7201a8"
             ],
             [
              0.3333333333333333,
              "#9c179e"
             ],
             [
              0.4444444444444444,
              "#bd3786"
             ],
             [
              0.5555555555555556,
              "#d8576b"
             ],
             [
              0.6666666666666666,
              "#ed7953"
             ],
             [
              0.7777777777777778,
              "#fb9f3a"
             ],
             [
              0.8888888888888888,
              "#fdca26"
             ],
             [
              1,
              "#f0f921"
             ]
            ],
            "type": "heatmapgl"
           }
          ],
          "histogram": [
           {
            "marker": {
             "pattern": {
              "fillmode": "overlay",
              "size": 10,
              "solidity": 0.2
             }
            },
            "type": "histogram"
           }
          ],
          "histogram2d": [
           {
            "colorbar": {
             "outlinewidth": 0,
             "ticks": ""
            },
            "colorscale": [
             [
              0,
              "#0d0887"
             ],
             [
              0.1111111111111111,
              "#46039f"
             ],
             [
              0.2222222222222222,
              "#7201a8"
             ],
             [
              0.3333333333333333,
              "#9c179e"
             ],
             [
              0.4444444444444444,
              "#bd3786"
             ],
             [
              0.5555555555555556,
              "#d8576b"
             ],
             [
              0.6666666666666666,
              "#ed7953"
             ],
             [
              0.7777777777777778,
              "#fb9f3a"
             ],
             [
              0.8888888888888888,
              "#fdca26"
             ],
             [
              1,
              "#f0f921"
             ]
            ],
            "type": "histogram2d"
           }
          ],
          "histogram2dcontour": [
           {
            "colorbar": {
             "outlinewidth": 0,
             "ticks": ""
            },
            "colorscale": [
             [
              0,
              "#0d0887"
             ],
             [
              0.1111111111111111,
              "#46039f"
             ],
             [
              0.2222222222222222,
              "#7201a8"
             ],
             [
              0.3333333333333333,
              "#9c179e"
             ],
             [
              0.4444444444444444,
              "#bd3786"
             ],
             [
              0.5555555555555556,
              "#d8576b"
             ],
             [
              0.6666666666666666,
              "#ed7953"
             ],
             [
              0.7777777777777778,
              "#fb9f3a"
             ],
             [
              0.8888888888888888,
              "#fdca26"
             ],
             [
              1,
              "#f0f921"
             ]
            ],
            "type": "histogram2dcontour"
           }
          ],
          "mesh3d": [
           {
            "colorbar": {
             "outlinewidth": 0,
             "ticks": ""
            },
            "type": "mesh3d"
           }
          ],
          "parcoords": [
           {
            "line": {
             "colorbar": {
              "outlinewidth": 0,
              "ticks": ""
             }
            },
            "type": "parcoords"
           }
          ],
          "pie": [
           {
            "automargin": true,
            "type": "pie"
           }
          ],
          "scatter": [
           {
            "fillpattern": {
             "fillmode": "overlay",
             "size": 10,
             "solidity": 0.2
            },
            "type": "scatter"
           }
          ],
          "scatter3d": [
           {
            "line": {
             "colorbar": {
              "outlinewidth": 0,
              "ticks": ""
             }
            },
            "marker": {
             "colorbar": {
              "outlinewidth": 0,
              "ticks": ""
             }
            },
            "type": "scatter3d"
           }
          ],
          "scattercarpet": [
           {
            "marker": {
             "colorbar": {
              "outlinewidth": 0,
              "ticks": ""
             }
            },
            "type": "scattercarpet"
           }
          ],
          "scattergeo": [
           {
            "marker": {
             "colorbar": {
              "outlinewidth": 0,
              "ticks": ""
             }
            },
            "type": "scattergeo"
           }
          ],
          "scattergl": [
           {
            "marker": {
             "colorbar": {
              "outlinewidth": 0,
              "ticks": ""
             }
            },
            "type": "scattergl"
           }
          ],
          "scattermapbox": [
           {
            "marker": {
             "colorbar": {
              "outlinewidth": 0,
              "ticks": ""
             }
            },
            "type": "scattermapbox"
           }
          ],
          "scatterpolar": [
           {
            "marker": {
             "colorbar": {
              "outlinewidth": 0,
              "ticks": ""
             }
            },
            "type": "scatterpolar"
           }
          ],
          "scatterpolargl": [
           {
            "marker": {
             "colorbar": {
              "outlinewidth": 0,
              "ticks": ""
             }
            },
            "type": "scatterpolargl"
           }
          ],
          "scatterternary": [
           {
            "marker": {
             "colorbar": {
              "outlinewidth": 0,
              "ticks": ""
             }
            },
            "type": "scatterternary"
           }
          ],
          "surface": [
           {
            "colorbar": {
             "outlinewidth": 0,
             "ticks": ""
            },
            "colorscale": [
             [
              0,
              "#0d0887"
             ],
             [
              0.1111111111111111,
              "#46039f"
             ],
             [
              0.2222222222222222,
              "#7201a8"
             ],
             [
              0.3333333333333333,
              "#9c179e"
             ],
             [
              0.4444444444444444,
              "#bd3786"
             ],
             [
              0.5555555555555556,
              "#d8576b"
             ],
             [
              0.6666666666666666,
              "#ed7953"
             ],
             [
              0.7777777777777778,
              "#fb9f3a"
             ],
             [
              0.8888888888888888,
              "#fdca26"
             ],
             [
              1,
              "#f0f921"
             ]
            ],
            "type": "surface"
           }
          ],
          "table": [
           {
            "cells": {
             "fill": {
              "color": "#EBF0F8"
             },
             "line": {
              "color": "white"
             }
            },
            "header": {
             "fill": {
              "color": "#C8D4E3"
             },
             "line": {
              "color": "white"
             }
            },
            "type": "table"
           }
          ]
         },
         "layout": {
          "annotationdefaults": {
           "arrowcolor": "#2a3f5f",
           "arrowhead": 0,
           "arrowwidth": 1
          },
          "autotypenumbers": "strict",
          "coloraxis": {
           "colorbar": {
            "outlinewidth": 0,
            "ticks": ""
           }
          },
          "colorscale": {
           "diverging": [
            [
             0,
             "#8e0152"
            ],
            [
             0.1,
             "#c51b7d"
            ],
            [
             0.2,
             "#de77ae"
            ],
            [
             0.3,
             "#f1b6da"
            ],
            [
             0.4,
             "#fde0ef"
            ],
            [
             0.5,
             "#f7f7f7"
            ],
            [
             0.6,
             "#e6f5d0"
            ],
            [
             0.7,
             "#b8e186"
            ],
            [
             0.8,
             "#7fbc41"
            ],
            [
             0.9,
             "#4d9221"
            ],
            [
             1,
             "#276419"
            ]
           ],
           "sequential": [
            [
             0,
             "#0d0887"
            ],
            [
             0.1111111111111111,
             "#46039f"
            ],
            [
             0.2222222222222222,
             "#7201a8"
            ],
            [
             0.3333333333333333,
             "#9c179e"
            ],
            [
             0.4444444444444444,
             "#bd3786"
            ],
            [
             0.5555555555555556,
             "#d8576b"
            ],
            [
             0.6666666666666666,
             "#ed7953"
            ],
            [
             0.7777777777777778,
             "#fb9f3a"
            ],
            [
             0.8888888888888888,
             "#fdca26"
            ],
            [
             1,
             "#f0f921"
            ]
           ],
           "sequentialminus": [
            [
             0,
             "#0d0887"
            ],
            [
             0.1111111111111111,
             "#46039f"
            ],
            [
             0.2222222222222222,
             "#7201a8"
            ],
            [
             0.3333333333333333,
             "#9c179e"
            ],
            [
             0.4444444444444444,
             "#bd3786"
            ],
            [
             0.5555555555555556,
             "#d8576b"
            ],
            [
             0.6666666666666666,
             "#ed7953"
            ],
            [
             0.7777777777777778,
             "#fb9f3a"
            ],
            [
             0.8888888888888888,
             "#fdca26"
            ],
            [
             1,
             "#f0f921"
            ]
           ]
          },
          "colorway": [
           "#636efa",
           "#EF553B",
           "#00cc96",
           "#ab63fa",
           "#FFA15A",
           "#19d3f3",
           "#FF6692",
           "#B6E880",
           "#FF97FF",
           "#FECB52"
          ],
          "font": {
           "color": "#2a3f5f"
          },
          "geo": {
           "bgcolor": "white",
           "lakecolor": "white",
           "landcolor": "#E5ECF6",
           "showlakes": true,
           "showland": true,
           "subunitcolor": "white"
          },
          "hoverlabel": {
           "align": "left"
          },
          "hovermode": "closest",
          "mapbox": {
           "style": "light"
          },
          "paper_bgcolor": "white",
          "plot_bgcolor": "#E5ECF6",
          "polar": {
           "angularaxis": {
            "gridcolor": "white",
            "linecolor": "white",
            "ticks": ""
           },
           "bgcolor": "#E5ECF6",
           "radialaxis": {
            "gridcolor": "white",
            "linecolor": "white",
            "ticks": ""
           }
          },
          "scene": {
           "xaxis": {
            "backgroundcolor": "#E5ECF6",
            "gridcolor": "white",
            "gridwidth": 2,
            "linecolor": "white",
            "showbackground": true,
            "ticks": "",
            "zerolinecolor": "white"
           },
           "yaxis": {
            "backgroundcolor": "#E5ECF6",
            "gridcolor": "white",
            "gridwidth": 2,
            "linecolor": "white",
            "showbackground": true,
            "ticks": "",
            "zerolinecolor": "white"
           },
           "zaxis": {
            "backgroundcolor": "#E5ECF6",
            "gridcolor": "white",
            "gridwidth": 2,
            "linecolor": "white",
            "showbackground": true,
            "ticks": "",
            "zerolinecolor": "white"
           }
          },
          "shapedefaults": {
           "line": {
            "color": "#2a3f5f"
           }
          },
          "ternary": {
           "aaxis": {
            "gridcolor": "white",
            "linecolor": "white",
            "ticks": ""
           },
           "baxis": {
            "gridcolor": "white",
            "linecolor": "white",
            "ticks": ""
           },
           "bgcolor": "#E5ECF6",
           "caxis": {
            "gridcolor": "white",
            "linecolor": "white",
            "ticks": ""
           }
          },
          "title": {
           "x": 0.05
          },
          "xaxis": {
           "automargin": true,
           "gridcolor": "white",
           "linecolor": "white",
           "ticks": "",
           "title": {
            "standoff": 15
           },
           "zerolinecolor": "white",
           "zerolinewidth": 2
          },
          "yaxis": {
           "automargin": true,
           "gridcolor": "white",
           "linecolor": "white",
           "ticks": "",
           "title": {
            "standoff": 15
           },
           "zerolinecolor": "white",
           "zerolinewidth": 2
          }
         }
        },
        "title": {
         "text": "Price of forward contract for an asset with starting price of $100."
        },
        "xaxis": {
         "anchor": "y",
         "domain": [
          0,
          1
         ],
         "range": [
          0,
          24
         ],
         "title": {
          "text": "Expiry date (y)"
         }
        },
        "yaxis": {
         "anchor": "x",
         "domain": [
          0,
          1
         ],
         "range": [
          50,
          874.7754203601912
         ],
         "title": {
          "text": "Forward price ($)"
         }
        }
       }
      },
      "text/html": [
       "<div>                            <div id=\"0ba6edcc-99d1-47b9-9edc-1d4fb9d8821c\" class=\"plotly-graph-div\" style=\"height:525px; width:100%;\"></div>            <script type=\"text/javascript\">                require([\"plotly\"], function(Plotly) {                    window.PLOTLYENV=window.PLOTLYENV || {};                                    if (document.getElementById(\"0ba6edcc-99d1-47b9-9edc-1d4fb9d8821c\")) {                    Plotly.newPlot(                        \"0ba6edcc-99d1-47b9-9edc-1d4fb9d8821c\",                        [{\"hovertemplate\":\"Interest rate (%)=0.0<br>Expiry date (y)=%{x}<br>Forward price ($)=%{y}<extra></extra>\",\"legendgroup\":\"\",\"marker\":{\"color\":\"#636efa\",\"symbol\":\"circle\"},\"mode\":\"markers\",\"name\":\"\",\"orientation\":\"v\",\"showlegend\":false,\"x\":[0,1,2,3,4,5,6,7,8,9,10,11,12,13,14,15,16,17,18,19,20,21,22,23],\"xaxis\":\"x\",\"y\":[100.0,100.0,100.0,100.0,100.0,100.0,100.0,100.0,100.0,100.0,100.0,100.0,100.0,100.0,100.0,100.0,100.0,100.0,100.0,100.0,100.0,100.0,100.0,100.0],\"yaxis\":\"y\",\"type\":\"scatter\"}],                        {\"template\":{\"data\":{\"histogram2dcontour\":[{\"type\":\"histogram2dcontour\",\"colorbar\":{\"outlinewidth\":0,\"ticks\":\"\"},\"colorscale\":[[0.0,\"#0d0887\"],[0.1111111111111111,\"#46039f\"],[0.2222222222222222,\"#7201a8\"],[0.3333333333333333,\"#9c179e\"],[0.4444444444444444,\"#bd3786\"],[0.5555555555555556,\"#d8576b\"],[0.6666666666666666,\"#ed7953\"],[0.7777777777777778,\"#fb9f3a\"],[0.8888888888888888,\"#fdca26\"],[1.0,\"#f0f921\"]]}],\"choropleth\":[{\"type\":\"choropleth\",\"colorbar\":{\"outlinewidth\":0,\"ticks\":\"\"}}],\"histogram2d\":[{\"type\":\"histogram2d\",\"colorbar\":{\"outlinewidth\":0,\"ticks\":\"\"},\"colorscale\":[[0.0,\"#0d0887\"],[0.1111111111111111,\"#46039f\"],[0.2222222222222222,\"#7201a8\"],[0.3333333333333333,\"#9c179e\"],[0.4444444444444444,\"#bd3786\"],[0.5555555555555556,\"#d8576b\"],[0.6666666666666666,\"#ed7953\"],[0.7777777777777778,\"#fb9f3a\"],[0.8888888888888888,\"#fdca26\"],[1.0,\"#f0f921\"]]}],\"heatmap\":[{\"type\":\"heatmap\",\"colorbar\":{\"outlinewidth\":0,\"ticks\":\"\"},\"colorscale\":[[0.0,\"#0d0887\"],[0.1111111111111111,\"#46039f\"],[0.2222222222222222,\"#7201a8\"],[0.3333333333333333,\"#9c179e\"],[0.4444444444444444,\"#bd3786\"],[0.5555555555555556,\"#d8576b\"],[0.6666666666666666,\"#ed7953\"],[0.7777777777777778,\"#fb9f3a\"],[0.8888888888888888,\"#fdca26\"],[1.0,\"#f0f921\"]]}],\"heatmapgl\":[{\"type\":\"heatmapgl\",\"colorbar\":{\"outlinewidth\":0,\"ticks\":\"\"},\"colorscale\":[[0.0,\"#0d0887\"],[0.1111111111111111,\"#46039f\"],[0.2222222222222222,\"#7201a8\"],[0.3333333333333333,\"#9c179e\"],[0.4444444444444444,\"#bd3786\"],[0.5555555555555556,\"#d8576b\"],[0.6666666666666666,\"#ed7953\"],[0.7777777777777778,\"#fb9f3a\"],[0.8888888888888888,\"#fdca26\"],[1.0,\"#f0f921\"]]}],\"contourcarpet\":[{\"type\":\"contourcarpet\",\"colorbar\":{\"outlinewidth\":0,\"ticks\":\"\"}}],\"contour\":[{\"type\":\"contour\",\"colorbar\":{\"outlinewidth\":0,\"ticks\":\"\"},\"colorscale\":[[0.0,\"#0d0887\"],[0.1111111111111111,\"#46039f\"],[0.2222222222222222,\"#7201a8\"],[0.3333333333333333,\"#9c179e\"],[0.4444444444444444,\"#bd3786\"],[0.5555555555555556,\"#d8576b\"],[0.6666666666666666,\"#ed7953\"],[0.7777777777777778,\"#fb9f3a\"],[0.8888888888888888,\"#fdca26\"],[1.0,\"#f0f921\"]]}],\"surface\":[{\"type\":\"surface\",\"colorbar\":{\"outlinewidth\":0,\"ticks\":\"\"},\"colorscale\":[[0.0,\"#0d0887\"],[0.1111111111111111,\"#46039f\"],[0.2222222222222222,\"#7201a8\"],[0.3333333333333333,\"#9c179e\"],[0.4444444444444444,\"#bd3786\"],[0.5555555555555556,\"#d8576b\"],[0.6666666666666666,\"#ed7953\"],[0.7777777777777778,\"#fb9f3a\"],[0.8888888888888888,\"#fdca26\"],[1.0,\"#f0f921\"]]}],\"mesh3d\":[{\"type\":\"mesh3d\",\"colorbar\":{\"outlinewidth\":0,\"ticks\":\"\"}}],\"scatter\":[{\"fillpattern\":{\"fillmode\":\"overlay\",\"size\":10,\"solidity\":0.2},\"type\":\"scatter\"}],\"parcoords\":[{\"type\":\"parcoords\",\"line\":{\"colorbar\":{\"outlinewidth\":0,\"ticks\":\"\"}}}],\"scatterpolargl\":[{\"type\":\"scatterpolargl\",\"marker\":{\"colorbar\":{\"outlinewidth\":0,\"ticks\":\"\"}}}],\"bar\":[{\"error_x\":{\"color\":\"#2a3f5f\"},\"error_y\":{\"color\":\"#2a3f5f\"},\"marker\":{\"line\":{\"color\":\"#E5ECF6\",\"width\":0.5},\"pattern\":{\"fillmode\":\"overlay\",\"size\":10,\"solidity\":0.2}},\"type\":\"bar\"}],\"scattergeo\":[{\"type\":\"scattergeo\",\"marker\":{\"colorbar\":{\"outlinewidth\":0,\"ticks\":\"\"}}}],\"scatterpolar\":[{\"type\":\"scatterpolar\",\"marker\":{\"colorbar\":{\"outlinewidth\":0,\"ticks\":\"\"}}}],\"histogram\":[{\"marker\":{\"pattern\":{\"fillmode\":\"overlay\",\"size\":10,\"solidity\":0.2}},\"type\":\"histogram\"}],\"scattergl\":[{\"type\":\"scattergl\",\"marker\":{\"colorbar\":{\"outlinewidth\":0,\"ticks\":\"\"}}}],\"scatter3d\":[{\"type\":\"scatter3d\",\"line\":{\"colorbar\":{\"outlinewidth\":0,\"ticks\":\"\"}},\"marker\":{\"colorbar\":{\"outlinewidth\":0,\"ticks\":\"\"}}}],\"scattermapbox\":[{\"type\":\"scattermapbox\",\"marker\":{\"colorbar\":{\"outlinewidth\":0,\"ticks\":\"\"}}}],\"scatterternary\":[{\"type\":\"scatterternary\",\"marker\":{\"colorbar\":{\"outlinewidth\":0,\"ticks\":\"\"}}}],\"scattercarpet\":[{\"type\":\"scattercarpet\",\"marker\":{\"colorbar\":{\"outlinewidth\":0,\"ticks\":\"\"}}}],\"carpet\":[{\"aaxis\":{\"endlinecolor\":\"#2a3f5f\",\"gridcolor\":\"white\",\"linecolor\":\"white\",\"minorgridcolor\":\"white\",\"startlinecolor\":\"#2a3f5f\"},\"baxis\":{\"endlinecolor\":\"#2a3f5f\",\"gridcolor\":\"white\",\"linecolor\":\"white\",\"minorgridcolor\":\"white\",\"startlinecolor\":\"#2a3f5f\"},\"type\":\"carpet\"}],\"table\":[{\"cells\":{\"fill\":{\"color\":\"#EBF0F8\"},\"line\":{\"color\":\"white\"}},\"header\":{\"fill\":{\"color\":\"#C8D4E3\"},\"line\":{\"color\":\"white\"}},\"type\":\"table\"}],\"barpolar\":[{\"marker\":{\"line\":{\"color\":\"#E5ECF6\",\"width\":0.5},\"pattern\":{\"fillmode\":\"overlay\",\"size\":10,\"solidity\":0.2}},\"type\":\"barpolar\"}],\"pie\":[{\"automargin\":true,\"type\":\"pie\"}]},\"layout\":{\"autotypenumbers\":\"strict\",\"colorway\":[\"#636efa\",\"#EF553B\",\"#00cc96\",\"#ab63fa\",\"#FFA15A\",\"#19d3f3\",\"#FF6692\",\"#B6E880\",\"#FF97FF\",\"#FECB52\"],\"font\":{\"color\":\"#2a3f5f\"},\"hovermode\":\"closest\",\"hoverlabel\":{\"align\":\"left\"},\"paper_bgcolor\":\"white\",\"plot_bgcolor\":\"#E5ECF6\",\"polar\":{\"bgcolor\":\"#E5ECF6\",\"angularaxis\":{\"gridcolor\":\"white\",\"linecolor\":\"white\",\"ticks\":\"\"},\"radialaxis\":{\"gridcolor\":\"white\",\"linecolor\":\"white\",\"ticks\":\"\"}},\"ternary\":{\"bgcolor\":\"#E5ECF6\",\"aaxis\":{\"gridcolor\":\"white\",\"linecolor\":\"white\",\"ticks\":\"\"},\"baxis\":{\"gridcolor\":\"white\",\"linecolor\":\"white\",\"ticks\":\"\"},\"caxis\":{\"gridcolor\":\"white\",\"linecolor\":\"white\",\"ticks\":\"\"}},\"coloraxis\":{\"colorbar\":{\"outlinewidth\":0,\"ticks\":\"\"}},\"colorscale\":{\"sequential\":[[0.0,\"#0d0887\"],[0.1111111111111111,\"#46039f\"],[0.2222222222222222,\"#7201a8\"],[0.3333333333333333,\"#9c179e\"],[0.4444444444444444,\"#bd3786\"],[0.5555555555555556,\"#d8576b\"],[0.6666666666666666,\"#ed7953\"],[0.7777777777777778,\"#fb9f3a\"],[0.8888888888888888,\"#fdca26\"],[1.0,\"#f0f921\"]],\"sequentialminus\":[[0.0,\"#0d0887\"],[0.1111111111111111,\"#46039f\"],[0.2222222222222222,\"#7201a8\"],[0.3333333333333333,\"#9c179e\"],[0.4444444444444444,\"#bd3786\"],[0.5555555555555556,\"#d8576b\"],[0.6666666666666666,\"#ed7953\"],[0.7777777777777778,\"#fb9f3a\"],[0.8888888888888888,\"#fdca26\"],[1.0,\"#f0f921\"]],\"diverging\":[[0,\"#8e0152\"],[0.1,\"#c51b7d\"],[0.2,\"#de77ae\"],[0.3,\"#f1b6da\"],[0.4,\"#fde0ef\"],[0.5,\"#f7f7f7\"],[0.6,\"#e6f5d0\"],[0.7,\"#b8e186\"],[0.8,\"#7fbc41\"],[0.9,\"#4d9221\"],[1,\"#276419\"]]},\"xaxis\":{\"gridcolor\":\"white\",\"linecolor\":\"white\",\"ticks\":\"\",\"title\":{\"standoff\":15},\"zerolinecolor\":\"white\",\"automargin\":true,\"zerolinewidth\":2},\"yaxis\":{\"gridcolor\":\"white\",\"linecolor\":\"white\",\"ticks\":\"\",\"title\":{\"standoff\":15},\"zerolinecolor\":\"white\",\"automargin\":true,\"zerolinewidth\":2},\"scene\":{\"xaxis\":{\"backgroundcolor\":\"#E5ECF6\",\"gridcolor\":\"white\",\"linecolor\":\"white\",\"showbackground\":true,\"ticks\":\"\",\"zerolinecolor\":\"white\",\"gridwidth\":2},\"yaxis\":{\"backgroundcolor\":\"#E5ECF6\",\"gridcolor\":\"white\",\"linecolor\":\"white\",\"showbackground\":true,\"ticks\":\"\",\"zerolinecolor\":\"white\",\"gridwidth\":2},\"zaxis\":{\"backgroundcolor\":\"#E5ECF6\",\"gridcolor\":\"white\",\"linecolor\":\"white\",\"showbackground\":true,\"ticks\":\"\",\"zerolinecolor\":\"white\",\"gridwidth\":2}},\"shapedefaults\":{\"line\":{\"color\":\"#2a3f5f\"}},\"annotationdefaults\":{\"arrowcolor\":\"#2a3f5f\",\"arrowhead\":0,\"arrowwidth\":1},\"geo\":{\"bgcolor\":\"white\",\"landcolor\":\"#E5ECF6\",\"subunitcolor\":\"white\",\"showland\":true,\"showlakes\":true,\"lakecolor\":\"white\"},\"title\":{\"x\":0.05},\"mapbox\":{\"style\":\"light\"}}},\"xaxis\":{\"anchor\":\"y\",\"domain\":[0.0,1.0],\"title\":{\"text\":\"Expiry date (y)\"},\"range\":[0,24]},\"yaxis\":{\"anchor\":\"x\",\"domain\":[0.0,1.0],\"title\":{\"text\":\"Forward price ($)\"},\"range\":[50.0,874.7754203601912]},\"legend\":{\"tracegroupgap\":0},\"title\":{\"text\":\"Price of forward contract for an asset with starting price of $100.\"},\"sliders\":[{\"active\":0,\"currentvalue\":{\"prefix\":\"Interest rate (%)=\"},\"len\":0.9,\"pad\":{\"b\":10,\"t\":60},\"steps\":[{\"args\":[[\"0.0\"],{\"frame\":{\"duration\":0,\"redraw\":false},\"mode\":\"immediate\",\"fromcurrent\":true,\"transition\":{\"duration\":0,\"easing\":\"linear\"}}],\"label\":\"0.0\",\"method\":\"animate\"},{\"args\":[[\"0.25\"],{\"frame\":{\"duration\":0,\"redraw\":false},\"mode\":\"immediate\",\"fromcurrent\":true,\"transition\":{\"duration\":0,\"easing\":\"linear\"}}],\"label\":\"0.25\",\"method\":\"animate\"},{\"args\":[[\"0.5\"],{\"frame\":{\"duration\":0,\"redraw\":false},\"mode\":\"immediate\",\"fromcurrent\":true,\"transition\":{\"duration\":0,\"easing\":\"linear\"}}],\"label\":\"0.5\",\"method\":\"animate\"},{\"args\":[[\"0.75\"],{\"frame\":{\"duration\":0,\"redraw\":false},\"mode\":\"immediate\",\"fromcurrent\":true,\"transition\":{\"duration\":0,\"easing\":\"linear\"}}],\"label\":\"0.75\",\"method\":\"animate\"},{\"args\":[[\"1.0\"],{\"frame\":{\"duration\":0,\"redraw\":false},\"mode\":\"immediate\",\"fromcurrent\":true,\"transition\":{\"duration\":0,\"easing\":\"linear\"}}],\"label\":\"1.0\",\"method\":\"animate\"},{\"args\":[[\"1.25\"],{\"frame\":{\"duration\":0,\"redraw\":false},\"mode\":\"immediate\",\"fromcurrent\":true,\"transition\":{\"duration\":0,\"easing\":\"linear\"}}],\"label\":\"1.25\",\"method\":\"animate\"},{\"args\":[[\"1.5\"],{\"frame\":{\"duration\":0,\"redraw\":false},\"mode\":\"immediate\",\"fromcurrent\":true,\"transition\":{\"duration\":0,\"easing\":\"linear\"}}],\"label\":\"1.5\",\"method\":\"animate\"},{\"args\":[[\"1.75\"],{\"frame\":{\"duration\":0,\"redraw\":false},\"mode\":\"immediate\",\"fromcurrent\":true,\"transition\":{\"duration\":0,\"easing\":\"linear\"}}],\"label\":\"1.75\",\"method\":\"animate\"},{\"args\":[[\"2.0\"],{\"frame\":{\"duration\":0,\"redraw\":false},\"mode\":\"immediate\",\"fromcurrent\":true,\"transition\":{\"duration\":0,\"easing\":\"linear\"}}],\"label\":\"2.0\",\"method\":\"animate\"},{\"args\":[[\"2.25\"],{\"frame\":{\"duration\":0,\"redraw\":false},\"mode\":\"immediate\",\"fromcurrent\":true,\"transition\":{\"duration\":0,\"easing\":\"linear\"}}],\"label\":\"2.25\",\"method\":\"animate\"},{\"args\":[[\"2.5\"],{\"frame\":{\"duration\":0,\"redraw\":false},\"mode\":\"immediate\",\"fromcurrent\":true,\"transition\":{\"duration\":0,\"easing\":\"linear\"}}],\"label\":\"2.5\",\"method\":\"animate\"},{\"args\":[[\"2.75\"],{\"frame\":{\"duration\":0,\"redraw\":false},\"mode\":\"immediate\",\"fromcurrent\":true,\"transition\":{\"duration\":0,\"easing\":\"linear\"}}],\"label\":\"2.75\",\"method\":\"animate\"},{\"args\":[[\"3.0\"],{\"frame\":{\"duration\":0,\"redraw\":false},\"mode\":\"immediate\",\"fromcurrent\":true,\"transition\":{\"duration\":0,\"easing\":\"linear\"}}],\"label\":\"3.0\",\"method\":\"animate\"},{\"args\":[[\"3.25\"],{\"frame\":{\"duration\":0,\"redraw\":false},\"mode\":\"immediate\",\"fromcurrent\":true,\"transition\":{\"duration\":0,\"easing\":\"linear\"}}],\"label\":\"3.25\",\"method\":\"animate\"},{\"args\":[[\"3.5\"],{\"frame\":{\"duration\":0,\"redraw\":false},\"mode\":\"immediate\",\"fromcurrent\":true,\"transition\":{\"duration\":0,\"easing\":\"linear\"}}],\"label\":\"3.5\",\"method\":\"animate\"},{\"args\":[[\"3.75\"],{\"frame\":{\"duration\":0,\"redraw\":false},\"mode\":\"immediate\",\"fromcurrent\":true,\"transition\":{\"duration\":0,\"easing\":\"linear\"}}],\"label\":\"3.75\",\"method\":\"animate\"},{\"args\":[[\"4.0\"],{\"frame\":{\"duration\":0,\"redraw\":false},\"mode\":\"immediate\",\"fromcurrent\":true,\"transition\":{\"duration\":0,\"easing\":\"linear\"}}],\"label\":\"4.0\",\"method\":\"animate\"},{\"args\":[[\"4.25\"],{\"frame\":{\"duration\":0,\"redraw\":false},\"mode\":\"immediate\",\"fromcurrent\":true,\"transition\":{\"duration\":0,\"easing\":\"linear\"}}],\"label\":\"4.25\",\"method\":\"animate\"},{\"args\":[[\"4.5\"],{\"frame\":{\"duration\":0,\"redraw\":false},\"mode\":\"immediate\",\"fromcurrent\":true,\"transition\":{\"duration\":0,\"easing\":\"linear\"}}],\"label\":\"4.5\",\"method\":\"animate\"},{\"args\":[[\"4.75\"],{\"frame\":{\"duration\":0,\"redraw\":false},\"mode\":\"immediate\",\"fromcurrent\":true,\"transition\":{\"duration\":0,\"easing\":\"linear\"}}],\"label\":\"4.75\",\"method\":\"animate\"},{\"args\":[[\"5.0\"],{\"frame\":{\"duration\":0,\"redraw\":false},\"mode\":\"immediate\",\"fromcurrent\":true,\"transition\":{\"duration\":0,\"easing\":\"linear\"}}],\"label\":\"5.0\",\"method\":\"animate\"},{\"args\":[[\"5.25\"],{\"frame\":{\"duration\":0,\"redraw\":false},\"mode\":\"immediate\",\"fromcurrent\":true,\"transition\":{\"duration\":0,\"easing\":\"linear\"}}],\"label\":\"5.25\",\"method\":\"animate\"},{\"args\":[[\"5.5\"],{\"frame\":{\"duration\":0,\"redraw\":false},\"mode\":\"immediate\",\"fromcurrent\":true,\"transition\":{\"duration\":0,\"easing\":\"linear\"}}],\"label\":\"5.5\",\"method\":\"animate\"},{\"args\":[[\"5.75\"],{\"frame\":{\"duration\":0,\"redraw\":false},\"mode\":\"immediate\",\"fromcurrent\":true,\"transition\":{\"duration\":0,\"easing\":\"linear\"}}],\"label\":\"5.75\",\"method\":\"animate\"},{\"args\":[[\"6.0\"],{\"frame\":{\"duration\":0,\"redraw\":false},\"mode\":\"immediate\",\"fromcurrent\":true,\"transition\":{\"duration\":0,\"easing\":\"linear\"}}],\"label\":\"6.0\",\"method\":\"animate\"},{\"args\":[[\"6.25\"],{\"frame\":{\"duration\":0,\"redraw\":false},\"mode\":\"immediate\",\"fromcurrent\":true,\"transition\":{\"duration\":0,\"easing\":\"linear\"}}],\"label\":\"6.25\",\"method\":\"animate\"},{\"args\":[[\"6.5\"],{\"frame\":{\"duration\":0,\"redraw\":false},\"mode\":\"immediate\",\"fromcurrent\":true,\"transition\":{\"duration\":0,\"easing\":\"linear\"}}],\"label\":\"6.5\",\"method\":\"animate\"},{\"args\":[[\"6.75\"],{\"frame\":{\"duration\":0,\"redraw\":false},\"mode\":\"immediate\",\"fromcurrent\":true,\"transition\":{\"duration\":0,\"easing\":\"linear\"}}],\"label\":\"6.75\",\"method\":\"animate\"},{\"args\":[[\"7.0\"],{\"frame\":{\"duration\":0,\"redraw\":false},\"mode\":\"immediate\",\"fromcurrent\":true,\"transition\":{\"duration\":0,\"easing\":\"linear\"}}],\"label\":\"7.0\",\"method\":\"animate\"},{\"args\":[[\"7.25\"],{\"frame\":{\"duration\":0,\"redraw\":false},\"mode\":\"immediate\",\"fromcurrent\":true,\"transition\":{\"duration\":0,\"easing\":\"linear\"}}],\"label\":\"7.25\",\"method\":\"animate\"},{\"args\":[[\"7.5\"],{\"frame\":{\"duration\":0,\"redraw\":false},\"mode\":\"immediate\",\"fromcurrent\":true,\"transition\":{\"duration\":0,\"easing\":\"linear\"}}],\"label\":\"7.5\",\"method\":\"animate\"},{\"args\":[[\"7.75\"],{\"frame\":{\"duration\":0,\"redraw\":false},\"mode\":\"immediate\",\"fromcurrent\":true,\"transition\":{\"duration\":0,\"easing\":\"linear\"}}],\"label\":\"7.75\",\"method\":\"animate\"},{\"args\":[[\"8.0\"],{\"frame\":{\"duration\":0,\"redraw\":false},\"mode\":\"immediate\",\"fromcurrent\":true,\"transition\":{\"duration\":0,\"easing\":\"linear\"}}],\"label\":\"8.0\",\"method\":\"animate\"},{\"args\":[[\"8.25\"],{\"frame\":{\"duration\":0,\"redraw\":false},\"mode\":\"immediate\",\"fromcurrent\":true,\"transition\":{\"duration\":0,\"easing\":\"linear\"}}],\"label\":\"8.25\",\"method\":\"animate\"},{\"args\":[[\"8.5\"],{\"frame\":{\"duration\":0,\"redraw\":false},\"mode\":\"immediate\",\"fromcurrent\":true,\"transition\":{\"duration\":0,\"easing\":\"linear\"}}],\"label\":\"8.5\",\"method\":\"animate\"},{\"args\":[[\"8.75\"],{\"frame\":{\"duration\":0,\"redraw\":false},\"mode\":\"immediate\",\"fromcurrent\":true,\"transition\":{\"duration\":0,\"easing\":\"linear\"}}],\"label\":\"8.75\",\"method\":\"animate\"},{\"args\":[[\"9.0\"],{\"frame\":{\"duration\":0,\"redraw\":false},\"mode\":\"immediate\",\"fromcurrent\":true,\"transition\":{\"duration\":0,\"easing\":\"linear\"}}],\"label\":\"9.0\",\"method\":\"animate\"},{\"args\":[[\"9.25\"],{\"frame\":{\"duration\":0,\"redraw\":false},\"mode\":\"immediate\",\"fromcurrent\":true,\"transition\":{\"duration\":0,\"easing\":\"linear\"}}],\"label\":\"9.25\",\"method\":\"animate\"},{\"args\":[[\"9.5\"],{\"frame\":{\"duration\":0,\"redraw\":false},\"mode\":\"immediate\",\"fromcurrent\":true,\"transition\":{\"duration\":0,\"easing\":\"linear\"}}],\"label\":\"9.5\",\"method\":\"animate\"},{\"args\":[[\"9.75\"],{\"frame\":{\"duration\":0,\"redraw\":false},\"mode\":\"immediate\",\"fromcurrent\":true,\"transition\":{\"duration\":0,\"easing\":\"linear\"}}],\"label\":\"9.75\",\"method\":\"animate\"}],\"x\":0.1,\"xanchor\":\"left\",\"y\":0,\"yanchor\":\"top\"}]},                        {\"responsive\": true}                    ).then(function(){\n",
       "                            Plotly.addFrames('0ba6edcc-99d1-47b9-9edc-1d4fb9d8821c', [{\"data\":[{\"hovertemplate\":\"Interest rate (%)=0.0<br>Expiry date (y)=%{x}<br>Forward price ($)=%{y}<extra></extra>\",\"legendgroup\":\"\",\"marker\":{\"color\":\"#636efa\",\"symbol\":\"circle\"},\"mode\":\"markers\",\"name\":\"\",\"orientation\":\"v\",\"showlegend\":false,\"x\":[0,1,2,3,4,5,6,7,8,9,10,11,12,13,14,15,16,17,18,19,20,21,22,23],\"xaxis\":\"x\",\"y\":[100.0,100.0,100.0,100.0,100.0,100.0,100.0,100.0,100.0,100.0,100.0,100.0,100.0,100.0,100.0,100.0,100.0,100.0,100.0,100.0,100.0,100.0,100.0,100.0],\"yaxis\":\"y\",\"type\":\"scatter\"}],\"name\":\"0.0\"},{\"data\":[{\"hovertemplate\":\"Interest rate (%)=0.25<br>Expiry date (y)=%{x}<br>Forward price ($)=%{y}<extra></extra>\",\"legendgroup\":\"\",\"marker\":{\"color\":\"#636efa\",\"symbol\":\"circle\"},\"mode\":\"markers\",\"name\":\"\",\"orientation\":\"v\",\"showlegend\":false,\"x\":[0,1,2,3,4,5,6,7,8,9,10,11,12,13,14,15,16,17,18,19,20,21,22,23],\"xaxis\":\"x\",\"y\":[100.0,100.25,100.50062499999999,100.75187656249997,101.00375625390623,101.256265644541,101.50940630865233,101.76317982442396,102.01758777398501,102.27263174341998,102.52831332277852,102.78463410608545,103.04159569135068,103.29919968057904,103.55744767978048,103.81634129897992,104.07588215222736,104.33607185760793,104.59691203725194,104.85840431734508,105.12055032813844,105.38335170395877,105.64681008321865,105.9109271084267],\"yaxis\":\"y\",\"type\":\"scatter\"}],\"name\":\"0.25\"},{\"data\":[{\"hovertemplate\":\"Interest rate (%)=0.5<br>Expiry date (y)=%{x}<br>Forward price ($)=%{y}<extra></extra>\",\"legendgroup\":\"\",\"marker\":{\"color\":\"#636efa\",\"symbol\":\"circle\"},\"mode\":\"markers\",\"name\":\"\",\"orientation\":\"v\",\"showlegend\":false,\"x\":[0,1,2,3,4,5,6,7,8,9,10,11,12,13,14,15,16,17,18,19,20,21,22,23],\"xaxis\":\"x\",\"y\":[100.0,100.49999999999999,101.00249999999997,101.50751249999996,102.01505006249995,102.52512531281243,103.03775093937651,103.55293969407337,104.07070439254373,104.59105791450642,105.11401320407896,105.63958327009935,106.16778118644983,106.69862009238207,107.23211319284395,107.76827375880818,108.3071151276022,108.8486507032402,109.39289395675638,109.93985842654016,110.48955771867284,111.0420055072662,111.5972155348025,112.15520161247652],\"yaxis\":\"y\",\"type\":\"scatter\"}],\"name\":\"0.5\"},{\"data\":[{\"hovertemplate\":\"Interest rate (%)=0.75<br>Expiry date (y)=%{x}<br>Forward price ($)=%{y}<extra></extra>\",\"legendgroup\":\"\",\"marker\":{\"color\":\"#636efa\",\"symbol\":\"circle\"},\"mode\":\"markers\",\"name\":\"\",\"orientation\":\"v\",\"showlegend\":false,\"x\":[0,1,2,3,4,5,6,7,8,9,10,11,12,13,14,15,16,17,18,19,20,21,22,23],\"xaxis\":\"x\",\"y\":[100.0,100.75,101.50562500000002,102.26691718750003,103.03391906640627,103.80667345940434,104.58522351034986,105.3696126866775,106.15988478182759,106.95608391769129,107.75825454707399,108.56644145617705,109.38068976709839,110.20104494035164,111.02755277740428,111.86025942323481,112.69921136890908,113.5444554541759,114.39603887008222,115.25400916160787,116.11841423031993,116.98930233704733,117.86672210457519,118.75072252035952],\"yaxis\":\"y\",\"type\":\"scatter\"}],\"name\":\"0.75\"},{\"data\":[{\"hovertemplate\":\"Interest rate (%)=1.0<br>Expiry date (y)=%{x}<br>Forward price ($)=%{y}<extra></extra>\",\"legendgroup\":\"\",\"marker\":{\"color\":\"#636efa\",\"symbol\":\"circle\"},\"mode\":\"markers\",\"name\":\"\",\"orientation\":\"v\",\"showlegend\":false,\"x\":[0,1,2,3,4,5,6,7,8,9,10,11,12,13,14,15,16,17,18,19,20,21,22,23],\"xaxis\":\"x\",\"y\":[100.0,101.0,102.01,103.03010000000002,104.060401,105.10100501000001,106.15201506010001,107.21353521070101,108.28567056280802,109.36852726843608,110.46221254112045,111.56683466653166,112.68250301319698,113.80932804332895,114.94742132376226,116.09689553699987,117.25786449236988,118.43044313729357,119.6147475686665,120.81089504435316,122.0190039947967,123.23919403474468,124.47158597509211,125.71630183484304],\"yaxis\":\"y\",\"type\":\"scatter\"}],\"name\":\"1.0\"},{\"data\":[{\"hovertemplate\":\"Interest rate (%)=1.25<br>Expiry date (y)=%{x}<br>Forward price ($)=%{y}<extra></extra>\",\"legendgroup\":\"\",\"marker\":{\"color\":\"#636efa\",\"symbol\":\"circle\"},\"mode\":\"markers\",\"name\":\"\",\"orientation\":\"v\",\"showlegend\":false,\"x\":[0,1,2,3,4,5,6,7,8,9,10,11,12,13,14,15,16,17,18,19,20,21,22,23],\"xaxis\":\"x\",\"y\":[100.0,101.25,102.515625,103.79707031249998,105.09453369140623,106.4082153625488,107.73831805458065,109.08504703026291,110.4486101181412,111.82921774461796,113.22708296642567,114.64242150350599,116.07545177229981,117.52639491945357,118.99547485594672,120.48291829164603,121.98895477029161,123.51381670492026,125.05773941373175,126.6209611564034,128.20372317085844,129.80626971049415,131.42884808187534,133.07170868289876],\"yaxis\":\"y\",\"type\":\"scatter\"}],\"name\":\"1.25\"},{\"data\":[{\"hovertemplate\":\"Interest rate (%)=1.5<br>Expiry date (y)=%{x}<br>Forward price ($)=%{y}<extra></extra>\",\"legendgroup\":\"\",\"marker\":{\"color\":\"#636efa\",\"symbol\":\"circle\"},\"mode\":\"markers\",\"name\":\"\",\"orientation\":\"v\",\"showlegend\":false,\"x\":[0,1,2,3,4,5,6,7,8,9,10,11,12,13,14,15,16,17,18,19,20,21,22,23],\"xaxis\":\"x\",\"y\":[100.0,101.49999999999999,103.02249999999998,104.56783749999997,106.13635506249996,107.72840038843745,109.34432639426399,110.98449129017796,112.64925865953062,114.33899753942356,116.0540825025149,117.79489374005261,119.56181714615339,121.35524440334568,123.17557306939584,125.02320666543679,126.89855476541831,128.80203308689957,130.73406358320307,132.6950745369511,134.68550065500534,136.70578316483042,138.75636991230286,140.83771546098737],\"yaxis\":\"y\",\"type\":\"scatter\"}],\"name\":\"1.5\"},{\"data\":[{\"hovertemplate\":\"Interest rate (%)=1.75<br>Expiry date (y)=%{x}<br>Forward price ($)=%{y}<extra></extra>\",\"legendgroup\":\"\",\"marker\":{\"color\":\"#636efa\",\"symbol\":\"circle\"},\"mode\":\"markers\",\"name\":\"\",\"orientation\":\"v\",\"showlegend\":false,\"x\":[0,1,2,3,4,5,6,7,8,9,10,11,12,13,14,15,16,17,18,19,20,21,22,23],\"xaxis\":\"x\",\"y\":[100.0,101.75,103.53062500000001,105.34241093750003,107.18590312890628,109.06165643366215,110.97023542125125,112.91221454112315,114.88817829559281,116.89872141576569,118.9444490405416,121.0259768987511,123.14393149447925,125.29895029563262,127.49168192580622,129.72278635950784,131.99293512079925,134.30281148541323,136.65311068640798,139.04454012342012,141.47781957557999,143.95368141815263,146.4728708429703,149.0361460827223],\"yaxis\":\"y\",\"type\":\"scatter\"}],\"name\":\"1.75\"},{\"data\":[{\"hovertemplate\":\"Interest rate (%)=2.0<br>Expiry date (y)=%{x}<br>Forward price ($)=%{y}<extra></extra>\",\"legendgroup\":\"\",\"marker\":{\"color\":\"#636efa\",\"symbol\":\"circle\"},\"mode\":\"markers\",\"name\":\"\",\"orientation\":\"v\",\"showlegend\":false,\"x\":[0,1,2,3,4,5,6,7,8,9,10,11,12,13,14,15,16,17,18,19,20,21,22,23],\"xaxis\":\"x\",\"y\":[100.0,102.0,104.03999999999999,106.12080000000002,108.243216,110.40808032,112.61624192640001,114.868566764928,117.16593810022657,119.50925686223111,121.89944199947573,124.33743083946524,126.82417945625456,129.36066304537965,131.94787630628724,134.586833832413,137.27857050906124,140.02414191924248,142.82462475762733,145.68111725277987,148.59473959783548,151.5666343897922,154.59796707758804,157.68992641913982],\"yaxis\":\"y\",\"type\":\"scatter\"}],\"name\":\"2.0\"},{\"data\":[{\"hovertemplate\":\"Interest rate (%)=2.25<br>Expiry date (y)=%{x}<br>Forward price ($)=%{y}<extra></extra>\",\"legendgroup\":\"\",\"marker\":{\"color\":\"#636efa\",\"symbol\":\"circle\"},\"mode\":\"markers\",\"name\":\"\",\"orientation\":\"v\",\"showlegend\":false,\"x\":[0,1,2,3,4,5,6,7,8,9,10,11,12,13,14,15,16,17,18,19,20,21,22,23],\"xaxis\":\"x\",\"y\":[100.0,102.25,104.55062499999998,106.90301406249998,109.30833187890623,111.76776934618162,114.2825441564707,116.8539013999913,119.48311418149109,122.17148425057465,124.92034264621256,127.73105035575234,130.60499898875676,133.54361146600377,136.54834272398887,139.6206804352786,142.7621457450724,145.9742940243365,149.25871563988406,152.61703674178145,156.05092006847153,159.56206577001214,163.1522122498374,166.82313702545872],\"yaxis\":\"y\",\"type\":\"scatter\"}],\"name\":\"2.25\"},{\"data\":[{\"hovertemplate\":\"Interest rate (%)=2.5<br>Expiry date (y)=%{x}<br>Forward price ($)=%{y}<extra></extra>\",\"legendgroup\":\"\",\"marker\":{\"color\":\"#636efa\",\"symbol\":\"circle\"},\"mode\":\"markers\",\"name\":\"\",\"orientation\":\"v\",\"showlegend\":false,\"x\":[0,1,2,3,4,5,6,7,8,9,10,11,12,13,14,15,16,17,18,19,20,21,22,23],\"xaxis\":\"x\",\"y\":[100.0,102.49999999999999,105.06249999999999,107.68906249999996,110.38128906249996,113.14082128906244,115.96934182128899,118.86857536682123,121.84028975099173,124.88629699476652,128.00845441963565,131.20866578012655,134.4888824246297,137.85110448524543,141.29738209737656,144.82981664981097,148.45056206605622,152.16182611770762,155.9658717706503,159.86501856491654,163.8616440290394,167.9581851297654,172.15713975800952,176.46106825195974],\"yaxis\":\"y\",\"type\":\"scatter\"}],\"name\":\"2.5\"},{\"data\":[{\"hovertemplate\":\"Interest rate (%)=2.75<br>Expiry date (y)=%{x}<br>Forward price ($)=%{y}<extra></extra>\",\"legendgroup\":\"\",\"marker\":{\"color\":\"#636efa\",\"symbol\":\"circle\"},\"mode\":\"markers\",\"name\":\"\",\"orientation\":\"v\",\"showlegend\":false,\"x\":[0,1,2,3,4,5,6,7,8,9,10,11,12,13,14,15,16,17,18,19,20,21,22,23],\"xaxis\":\"x\",\"y\":[100.0,102.75000000000001,105.57562500000002,108.47895468750002,111.46212594140627,114.52733440479497,117.67683610092683,120.91294909370234,124.23805519377915,127.6546017116081,131.1651032586773,134.77214359829097,138.47837754724398,142.2865329297932,146.19941258536252,150.21989643146,154.35094358332518,158.59559453186662,162.95697338149296,167.43829014948403,172.04284312859485,176.77402131463123,181.6353069007836,186.63027784055518],\"yaxis\":\"y\",\"type\":\"scatter\"}],\"name\":\"2.75\"},{\"data\":[{\"hovertemplate\":\"Interest rate (%)=3.0<br>Expiry date (y)=%{x}<br>Forward price ($)=%{y}<extra></extra>\",\"legendgroup\":\"\",\"marker\":{\"color\":\"#636efa\",\"symbol\":\"circle\"},\"mode\":\"markers\",\"name\":\"\",\"orientation\":\"v\",\"showlegend\":false,\"x\":[0,1,2,3,4,5,6,7,8,9,10,11,12,13,14,15,16,17,18,19,20,21,22,23],\"xaxis\":\"x\",\"y\":[100.0,103.0,106.08999999999999,109.2727,112.55088100000002,115.92740743,119.40522965290002,122.98738654248702,126.67700813876164,130.4773183829245,134.39163793441222,138.4233870724446,142.57608868461793,146.8533713451565,151.25897248551118,155.79674166007652,160.47064390987882,165.28476322717518,170.24330612399046,175.35060530771017,180.61112346694148,186.0294571709497,191.61034088607823,197.35865111266057],\"yaxis\":\"y\",\"type\":\"scatter\"}],\"name\":\"3.0\"},{\"data\":[{\"hovertemplate\":\"Interest rate (%)=3.25<br>Expiry date (y)=%{x}<br>Forward price ($)=%{y}<extra></extra>\",\"legendgroup\":\"\",\"marker\":{\"color\":\"#636efa\",\"symbol\":\"circle\"},\"mode\":\"markers\",\"name\":\"\",\"orientation\":\"v\",\"showlegend\":false,\"x\":[0,1,2,3,4,5,6,7,8,9,10,11,12,13,14,15,16,17,18,19,20,21,22,23],\"xaxis\":\"x\",\"y\":[100.0,103.25,106.60562499999999,110.0703078125,113.64759281640625,117.34113958293943,121.15472661938496,125.09225523451497,129.1577535296367,133.3553805193499,137.68943038622876,142.1643368737812,146.78467782217908,151.5551798513999,156.48072319657038,161.56634670045892,166.81725296822384,172.23881368969109,177.83657513460608,183.61626382648075,189.5837924008414,195.74526565386873,202.10698678761943,208.67546385821706],\"yaxis\":\"y\",\"type\":\"scatter\"}],\"name\":\"3.25\"},{\"data\":[{\"hovertemplate\":\"Interest rate (%)=3.5<br>Expiry date (y)=%{x}<br>Forward price ($)=%{y}<extra></extra>\",\"legendgroup\":\"\",\"marker\":{\"color\":\"#636efa\",\"symbol\":\"circle\"},\"mode\":\"markers\",\"name\":\"\",\"orientation\":\"v\",\"showlegend\":false,\"x\":[0,1,2,3,4,5,6,7,8,9,10,11,12,13,14,15,16,17,18,19,20,21,22,23],\"xaxis\":\"x\",\"y\":[100.0,103.49999999999999,107.12249999999999,110.87178749999997,114.75230006249997,118.76863056468746,122.9255326344515,127.22792627665729,131.6809036963403,136.2897353257122,141.0598760621121,145.99697172428603,151.10686573463602,156.39560603534827,161.86945224658544,167.53488307521593,173.39860398284847,179.46755512224814,185.74891955152682,192.25013173583025,198.9788863465843,205.94314736871473,213.1511575266197,220.61144804005139],\"yaxis\":\"y\",\"type\":\"scatter\"}],\"name\":\"3.5\"},{\"data\":[{\"hovertemplate\":\"Interest rate (%)=3.75<br>Expiry date (y)=%{x}<br>Forward price ($)=%{y}<extra></extra>\",\"legendgroup\":\"\",\"marker\":{\"color\":\"#636efa\",\"symbol\":\"circle\"},\"mode\":\"markers\",\"name\":\"\",\"orientation\":\"v\",\"showlegend\":false,\"x\":[0,1,2,3,4,5,6,7,8,9,10,11,12,13,14,15,16,17,18,19,20,21,22,23],\"xaxis\":\"x\",\"y\":[100.0,103.75000000000001,107.64062500000003,111.67714843750002,115.86504150390628,120.20998056030278,124.71785483131414,129.39477438748844,134.24707842701926,139.2813438680325,144.50439426308375,149.9233090479494,155.5454331372475,161.3783868798943,167.43007638789035,173.70870425243626,180.22278066190262,186.981134936724,193.99292749685117,201.2676622779831,208.81519961340746,216.64576959891028,224.76998595886943,233.19886043232705],\"yaxis\":\"y\",\"type\":\"scatter\"}],\"name\":\"3.75\"},{\"data\":[{\"hovertemplate\":\"Interest rate (%)=4.0<br>Expiry date (y)=%{x}<br>Forward price ($)=%{y}<extra></extra>\",\"legendgroup\":\"\",\"marker\":{\"color\":\"#636efa\",\"symbol\":\"circle\"},\"mode\":\"markers\",\"name\":\"\",\"orientation\":\"v\",\"showlegend\":false,\"x\":[0,1,2,3,4,5,6,7,8,9,10,11,12,13,14,15,16,17,18,19,20,21,22,23],\"xaxis\":\"x\",\"y\":[100.0,104.0,108.16000000000001,112.4864,116.98585600000003,121.66529024000002,126.53190184960003,131.59317792358402,136.85690504052738,142.3311812421485,148.02442849183444,153.94540563150784,160.10322185676816,166.50735073103888,173.16764476028044,180.09435055069164,187.29812457271933,194.79004955562812,202.58165153785325,210.6849175993674,219.1123143033421,227.87680687547578,236.9918791504948,246.4715543165146],\"yaxis\":\"y\",\"type\":\"scatter\"}],\"name\":\"4.0\"},{\"data\":[{\"hovertemplate\":\"Interest rate (%)=4.25<br>Expiry date (y)=%{x}<br>Forward price ($)=%{y}<extra></extra>\",\"legendgroup\":\"\",\"marker\":{\"color\":\"#636efa\",\"symbol\":\"circle\"},\"mode\":\"markers\",\"name\":\"\",\"orientation\":\"v\",\"showlegend\":false,\"x\":[0,1,2,3,4,5,6,7,8,9,10,11,12,13,14,15,16,17,18,19,20,21,22,23],\"xaxis\":\"x\",\"y\":[100.0,104.25,108.68062499999999,113.2995515625,118.11478250390624,123.13466076032225,128.36788384263596,133.82351890594796,139.51101845945075,145.4402367439774,151.62144680559646,158.0653582948343,164.78313602236477,171.78641930331526,179.08734212370615,186.69855416396365,194.6332427159321,202.90515553135924,211.52862464144198,220.51859118870328,229.89063131422313,239.66098314507764,249.84657492874342,260.465054363215],\"yaxis\":\"y\",\"type\":\"scatter\"}],\"name\":\"4.25\"},{\"data\":[{\"hovertemplate\":\"Interest rate (%)=4.5<br>Expiry date (y)=%{x}<br>Forward price ($)=%{y}<extra></extra>\",\"legendgroup\":\"\",\"marker\":{\"color\":\"#636efa\",\"symbol\":\"circle\"},\"mode\":\"markers\",\"name\":\"\",\"orientation\":\"v\",\"showlegend\":false,\"x\":[0,1,2,3,4,5,6,7,8,9,10,11,12,13,14,15,16,17,18,19,20,21,22,23],\"xaxis\":\"x\",\"y\":[100.0,104.5,109.20249999999999,114.11661249999997,119.25186006249997,124.61819376531247,130.22601248475152,136.0861830465653,142.21006128366074,148.60951404142546,155.2969421732896,162.28530457108764,169.58814327678655,177.21960972424193,185.1944921618328,193.52824430911528,202.23701530302546,211.33768099166156,220.84787663628634,230.7860310849192,241.1714024837406,252.02411559550887,263.3652007973068,275.21663483318554],\"yaxis\":\"y\",\"type\":\"scatter\"}],\"name\":\"4.5\"},{\"data\":[{\"hovertemplate\":\"Interest rate (%)=4.75<br>Expiry date (y)=%{x}<br>Forward price ($)=%{y}<extra></extra>\",\"legendgroup\":\"\",\"marker\":{\"color\":\"#636efa\",\"symbol\":\"circle\"},\"mode\":\"markers\",\"name\":\"\",\"orientation\":\"v\",\"showlegend\":false,\"x\":[0,1,2,3,4,5,6,7,8,9,10,11,12,13,14,15,16,17,18,19,20,21,22,23],\"xaxis\":\"x\",\"y\":[100.0,104.75000000000001,109.72562500000002,114.93759218750003,120.3971278164063,126.11599138768561,132.10650097860068,138.38155977508424,144.95468386440075,151.8400313479598,159.0524328369879,166.60742339674485,174.52127600809024,182.81103661847453,191.4945608578521,200.59055249860006,210.11860374228363,220.09923742004213,230.55395119749411,241.50526387937515,252.97676391364544,264.99316019954364,277.580335309022,290.76540123620055],\"yaxis\":\"y\",\"type\":\"scatter\"}],\"name\":\"4.75\"},{\"data\":[{\"hovertemplate\":\"Interest rate (%)=5.0<br>Expiry date (y)=%{x}<br>Forward price ($)=%{y}<extra></extra>\",\"legendgroup\":\"\",\"marker\":{\"color\":\"#636efa\",\"symbol\":\"circle\"},\"mode\":\"markers\",\"name\":\"\",\"orientation\":\"v\",\"showlegend\":false,\"x\":[0,1,2,3,4,5,6,7,8,9,10,11,12,13,14,15,16,17,18,19,20,21,22,23],\"xaxis\":\"x\",\"y\":[100.0,105.0,110.25,115.76250000000002,121.55062500000003,127.62815625000003,134.00956406250003,140.71004226562505,147.7455443789063,155.13282159785163,162.8894626777442,171.0339358116314,179.585632602213,188.56491423232367,197.99315994393987,207.89281794113688,218.2874588381937,229.20183178010342,240.66192336910856,252.69501953756404,265.3297705144422,278.59625904016434,292.5260719921726,307.1523755917812],\"yaxis\":\"y\",\"type\":\"scatter\"}],\"name\":\"5.0\"},{\"data\":[{\"hovertemplate\":\"Interest rate (%)=5.25<br>Expiry date (y)=%{x}<br>Forward price ($)=%{y}<extra></extra>\",\"legendgroup\":\"\",\"marker\":{\"color\":\"#636efa\",\"symbol\":\"circle\"},\"mode\":\"markers\",\"name\":\"\",\"orientation\":\"v\",\"showlegend\":false,\"x\":[0,1,2,3,4,5,6,7,8,9,10,11,12,13,14,15,16,17,18,19,20,21,22,23],\"xaxis\":\"x\",\"y\":[100.0,105.25,110.775625,116.5913453125,122.71239094140624,129.15479146583007,135.93541801778613,143.0720274637199,150.58330890556522,158.4889326231074,166.80960158582053,175.56710566907608,184.78437871670258,194.48555859932947,204.69605042579428,215.44259307314846,226.75332920948875,238.65787899298692,251.18741764011872,264.37475706622496,278.2544318122018,292.8627894823424,308.23808593016537,324.42058544149904],\"yaxis\":\"y\",\"type\":\"scatter\"}],\"name\":\"5.25\"},{\"data\":[{\"hovertemplate\":\"Interest rate (%)=5.5<br>Expiry date (y)=%{x}<br>Forward price ($)=%{y}<extra></extra>\",\"legendgroup\":\"\",\"marker\":{\"color\":\"#636efa\",\"symbol\":\"circle\"},\"mode\":\"markers\",\"name\":\"\",\"orientation\":\"v\",\"showlegend\":false,\"x\":[0,1,2,3,4,5,6,7,8,9,10,11,12,13,14,15,16,17,18,19,20,21,22,23],\"xaxis\":\"x\",\"y\":[100.0,105.5,111.3025,117.42413749999999,123.88246506249997,130.69600064093748,137.884280676189,145.4679161133794,153.46865149961525,161.90942733209408,170.81444583535927,180.209240356304,190.1207485759007,200.57738974757524,211.60914618369185,223.24764922379492,235.5262699311036,248.48021477731427,262.1466265900666,276.56469105252023,291.77574906040877,307.82341525873125,324.7537030979615,342.6151567683493],\"yaxis\":\"y\",\"type\":\"scatter\"}],\"name\":\"5.5\"},{\"data\":[{\"hovertemplate\":\"Interest rate (%)=5.75<br>Expiry date (y)=%{x}<br>Forward price ($)=%{y}<extra></extra>\",\"legendgroup\":\"\",\"marker\":{\"color\":\"#636efa\",\"symbol\":\"circle\"},\"mode\":\"markers\",\"name\":\"\",\"orientation\":\"v\",\"showlegend\":false,\"x\":[0,1,2,3,4,5,6,7,8,9,10,11,12,13,14,15,16,17,18,19,20,21,22,23],\"xaxis\":\"x\",\"y\":[100.0,105.75000000000001,111.83062500000003,118.26088593750003,125.0608868789063,132.2518878744434,139.85637142722393,147.89811278428934,156.402254269386,165.3953838898757,174.90561846354356,184.96269152519733,195.5980462878962,206.84493394945025,218.73851765154367,231.31598241650747,244.61665140545662,258.6821088612704,273.5563301207935,289.28581910273914,305.9197537011467,323.5101395389627,342.11197256245305,361.78341098479416],\"yaxis\":\"y\",\"type\":\"scatter\"}],\"name\":\"5.75\"},{\"data\":[{\"hovertemplate\":\"Interest rate (%)=6.0<br>Expiry date (y)=%{x}<br>Forward price ($)=%{y}<extra></extra>\",\"legendgroup\":\"\",\"marker\":{\"color\":\"#636efa\",\"symbol\":\"circle\"},\"mode\":\"markers\",\"name\":\"\",\"orientation\":\"v\",\"showlegend\":false,\"x\":[0,1,2,3,4,5,6,7,8,9,10,11,12,13,14,15,16,17,18,19,20,21,22,23],\"xaxis\":\"x\",\"y\":[100.0,106.0,112.36000000000001,119.1016,126.24769600000003,133.82255776000002,141.85191122560005,150.36302589913606,159.38480745308422,168.9478959002693,179.08476965428545,189.82985583354258,201.21964718355514,213.29282601456848,226.0903955754426,239.65581930996916,254.03516846856732,269.27727857668134,285.4339152912823,302.55995020875923,320.7135472212848,339.9563600545619,360.35374165783566,381.9749661573058],\"yaxis\":\"y\",\"type\":\"scatter\"}],\"name\":\"6.0\"},{\"data\":[{\"hovertemplate\":\"Interest rate (%)=6.25<br>Expiry date (y)=%{x}<br>Forward price ($)=%{y}<extra></extra>\",\"legendgroup\":\"\",\"marker\":{\"color\":\"#636efa\",\"symbol\":\"circle\"},\"mode\":\"markers\",\"name\":\"\",\"orientation\":\"v\",\"showlegend\":false,\"x\":[0,1,2,3,4,5,6,7,8,9,10,11,12,13,14,15,16,17,18,19,20,21,22,23],\"xaxis\":\"x\",\"y\":[100.0,106.25,112.890625,119.9462890625,127.44293212890625,135.4081153869629,143.87112259864807,152.86306776106358,162.41700949613005,172.56807258963818,183.35357712649056,194.81317569689622,206.98899917795222,219.92581162657422,233.67117485323513,248.27562328156233,263.79284973666,280.27990284520126,297.7973967730263,316.40973407134044,336.1853424507992,357.19692635397416,379.52173425109754,403.24184264179115],\"yaxis\":\"y\",\"type\":\"scatter\"}],\"name\":\"6.25\"},{\"data\":[{\"hovertemplate\":\"Interest rate (%)=6.5<br>Expiry date (y)=%{x}<br>Forward price ($)=%{y}<extra></extra>\",\"legendgroup\":\"\",\"marker\":{\"color\":\"#636efa\",\"symbol\":\"circle\"},\"mode\":\"markers\",\"name\":\"\",\"orientation\":\"v\",\"showlegend\":false,\"x\":[0,1,2,3,4,5,6,7,8,9,10,11,12,13,14,15,16,17,18,19,20,21,22,23],\"xaxis\":\"x\",\"y\":[100.0,106.5,113.42249999999999,120.7949625,128.64663506249997,137.00866634156245,145.914229653764,155.39865458125868,165.49956712904049,176.2570389924281,187.71374652693592,199.91514005118674,212.90962415451386,226.74874972455729,241.48741845665347,257.18410065633594,273.90106719899774,291.7046365669326,310.6654379437832,330.85869141012904,352.36450635178744,375.2681992646536,399.66063221685613,425.6385733109517],\"yaxis\":\"y\",\"type\":\"scatter\"}],\"name\":\"6.5\"},{\"data\":[{\"hovertemplate\":\"Interest rate (%)=6.75<br>Expiry date (y)=%{x}<br>Forward price ($)=%{y}<extra></extra>\",\"legendgroup\":\"\",\"marker\":{\"color\":\"#636efa\",\"symbol\":\"circle\"},\"mode\":\"markers\",\"name\":\"\",\"orientation\":\"v\",\"showlegend\":false,\"x\":[0,1,2,3,4,5,6,7,8,9,10,11,12,13,14,15,16,17,18,19,20,21,22,23],\"xaxis\":\"x\",\"y\":[100.0,106.74999999999999,113.95562499999998,121.64762968749996,129.8588446914062,138.62431670807612,147.98145808587122,157.97020650666752,168.63319544586756,180.01593613846362,192.16701182780986,205.13828512618701,218.98511937220465,233.7666149298284,249.54586143759178,266.3902070846292,284.3715460628417,303.56662542208346,324.057372638074,345.931245291144,369.2816043482962,394.2081126418061,420.817160245128,449.2223185616742],\"yaxis\":\"y\",\"type\":\"scatter\"}],\"name\":\"6.75\"},{\"data\":[{\"hovertemplate\":\"Interest rate (%)=7.0<br>Expiry date (y)=%{x}<br>Forward price ($)=%{y}<extra></extra>\",\"legendgroup\":\"\",\"marker\":{\"color\":\"#636efa\",\"symbol\":\"circle\"},\"mode\":\"markers\",\"name\":\"\",\"orientation\":\"v\",\"showlegend\":false,\"x\":[0,1,2,3,4,5,6,7,8,9,10,11,12,13,14,15,16,17,18,19,20,21,22,23],\"xaxis\":\"x\",\"y\":[100.0,107.0,114.49000000000001,122.50430000000001,131.07960100000003,140.25517307000004,150.07303518490005,160.57814764784305,171.8186179831921,183.84592124201555,196.71513572895665,210.48519522998365,225.2191588960825,240.98450001880826,257.8534150201249,275.9031540715336,295.216374856541,315.8815210964989,337.9932275732538,361.65275350338163,386.96844624861836,414.0562374860217,443.04017411004327,474.05298629774626],\"yaxis\":\"y\",\"type\":\"scatter\"}],\"name\":\"7.0\"},{\"data\":[{\"hovertemplate\":\"Interest rate (%)=7.25<br>Expiry date (y)=%{x}<br>Forward price ($)=%{y}<extra></extra>\",\"legendgroup\":\"\",\"marker\":{\"color\":\"#636efa\",\"symbol\":\"circle\"},\"mode\":\"markers\",\"name\":\"\",\"orientation\":\"v\",\"showlegend\":false,\"x\":[0,1,2,3,4,5,6,7,8,9,10,11,12,13,14,15,16,17,18,19,20,21,22,23],\"xaxis\":\"x\",\"y\":[100.0,107.25,115.02562499999999,123.36498281250002,132.30894406640624,141.90134251122072,152.1891898432842,163.22290610692232,175.0565667996742,187.74816789265057,201.35991006486776,215.95850354457068,231.61549505155202,248.40761844278956,266.41717077989176,285.73241566143395,306.4480157968879,328.6654969421623,352.4937454704691,378.04954201707807,405.45813381331624,434.85384851478165,466.3807525321033,500.1933570906808],\"yaxis\":\"y\",\"type\":\"scatter\"}],\"name\":\"7.25\"},{\"data\":[{\"hovertemplate\":\"Interest rate (%)=7.5<br>Expiry date (y)=%{x}<br>Forward price ($)=%{y}<extra></extra>\",\"legendgroup\":\"\",\"marker\":{\"color\":\"#636efa\",\"symbol\":\"circle\"},\"mode\":\"markers\",\"name\":\"\",\"orientation\":\"v\",\"showlegend\":false,\"x\":[0,1,2,3,4,5,6,7,8,9,10,11,12,13,14,15,16,17,18,19,20,21,22,23],\"xaxis\":\"x\",\"y\":[100.0,107.5,115.56249999999999,124.22968749999998,133.54691406249998,143.56293261718747,154.33015256347653,165.90491400573725,178.34778255616754,191.7238662478801,206.10315621647112,221.56089293270642,238.1779599026594,256.04130689535884,275.24440491251073,295.887735280949,318.0793154270202,341.9352640840467,367.58040889035016,395.1489395571264,424.78511002391093,456.64399327570425,490.892292771382,527.7092147292357],\"yaxis\":\"y\",\"type\":\"scatter\"}],\"name\":\"7.5\"},{\"data\":[{\"hovertemplate\":\"Interest rate (%)=7.75<br>Expiry date (y)=%{x}<br>Forward price ($)=%{y}<extra></extra>\",\"legendgroup\":\"\",\"marker\":{\"color\":\"#636efa\",\"symbol\":\"circle\"},\"mode\":\"markers\",\"name\":\"\",\"orientation\":\"v\",\"showlegend\":false,\"x\":[0,1,2,3,4,5,6,7,8,9,10,11,12,13,14,15,16,17,18,19,20,21,22,23],\"xaxis\":\"x\",\"y\":[100.0,107.74999999999999,116.10062499999998,125.09842343749997,134.7935512539062,145.24005147608392,156.4961554654804,168.62460751405513,181.69301459639436,195.77422322761493,210.94672552775506,227.29509675615606,244.91046675475815,263.89102792825184,284.3425825926913,306.3791327436249,330.1235155312558,355.7080879849281,383.27546480376,412.9793133260514,444.98521010882024,479.4715638922538,516.6306100939034,556.6694823761809],\"yaxis\":\"y\",\"type\":\"scatter\"}],\"name\":\"7.75\"},{\"data\":[{\"hovertemplate\":\"Interest rate (%)=8.0<br>Expiry date (y)=%{x}<br>Forward price ($)=%{y}<extra></extra>\",\"legendgroup\":\"\",\"marker\":{\"color\":\"#636efa\",\"symbol\":\"circle\"},\"mode\":\"markers\",\"name\":\"\",\"orientation\":\"v\",\"showlegend\":false,\"x\":[0,1,2,3,4,5,6,7,8,9,10,11,12,13,14,15,16,17,18,19,20,21,22,23],\"xaxis\":\"x\",\"y\":[100.0,108.0,116.64000000000001,125.97120000000001,136.04889600000004,146.93280768000005,158.68743229440005,171.3824268779521,185.09302102818825,199.90046271044332,215.89249972727882,233.16389970546112,251.81701168189804,271.9623726164499,293.7193624257659,317.21691141982717,342.5942643334134,370.00180548008655,399.6019499184934,431.5701059119729,466.09571438493083,503.3833715357253,543.6540412585833,587.1463645592701],\"yaxis\":\"y\",\"type\":\"scatter\"}],\"name\":\"8.0\"},{\"data\":[{\"hovertemplate\":\"Interest rate (%)=8.25<br>Expiry date (y)=%{x}<br>Forward price ($)=%{y}<extra></extra>\",\"legendgroup\":\"\",\"marker\":{\"color\":\"#636efa\",\"symbol\":\"circle\"},\"mode\":\"markers\",\"name\":\"\",\"orientation\":\"v\",\"showlegend\":false,\"x\":[0,1,2,3,4,5,6,7,8,9,10,11,12,13,14,15,16,17,18,19,20,21,22,23],\"xaxis\":\"x\",\"y\":[100.0,108.25,117.18062499999999,126.84802656250001,137.31298875390624,148.64131032610354,160.90421842800706,174.17881644831766,188.54856880530386,204.10382573174144,220.94239135461012,239.17013864136547,258.9016750792781,280.26106327331854,303.38260099336736,328.41166557532017,355.5056279852841,384.83484229407,416.5837167833308,450.9518734179556,488.155402974937,528.4282237203693,572.0235521772997,619.2154952319269],\"yaxis\":\"y\",\"type\":\"scatter\"}],\"name\":\"8.25\"},{\"data\":[{\"hovertemplate\":\"Interest rate (%)=8.5<br>Expiry date (y)=%{x}<br>Forward price ($)=%{y}<extra></extra>\",\"legendgroup\":\"\",\"marker\":{\"color\":\"#636efa\",\"symbol\":\"circle\"},\"mode\":\"markers\",\"name\":\"\",\"orientation\":\"v\",\"showlegend\":false,\"x\":[0,1,2,3,4,5,6,7,8,9,10,11,12,13,14,15,16,17,18,19,20,21,22,23],\"xaxis\":\"x\",\"y\":[100.0,108.5,117.7225,127.72891249999998,138.5858700625,150.36566901781248,163.14675088432654,177.01422470949427,192.06043380980128,208.3855706836344,226.09834419174328,245.31670344804147,266.168623241125,288.7929562166206,313.34035749503335,339.9742878821112,368.8721023520906,400.2262310520183,434.24546069143986,471.1563248502122,511.2046124624802,554.657004521791,601.8028499061433,652.9560921481655],\"yaxis\":\"y\",\"type\":\"scatter\"}],\"name\":\"8.5\"},{\"data\":[{\"hovertemplate\":\"Interest rate (%)=8.75<br>Expiry date (y)=%{x}<br>Forward price ($)=%{y}<extra></extra>\",\"legendgroup\":\"\",\"marker\":{\"color\":\"#636efa\",\"symbol\":\"circle\"},\"mode\":\"markers\",\"name\":\"\",\"orientation\":\"v\",\"showlegend\":false,\"x\":[0,1,2,3,4,5,6,7,8,9,10,11,12,13,14,15,16,17,18,19,20,21,22,23],\"xaxis\":\"x\",\"y\":[100.0,108.74999999999999,118.26562499999997,128.61386718749998,139.8675805664062,152.10599386596672,165.4152683292388,179.8891043080472,195.62940093500129,212.74697351681388,231.3623336995351,251.6065378982444,273.6221099643408,297.5640445862206,323.6008984875148,351.9159771051724,382.7086251018749,416.1956297982889,452.61274740563914,492.21636280363253,535.2852945489503,582.1227578219834,633.058499131407,688.451117805405],\"yaxis\":\"y\",\"type\":\"scatter\"}],\"name\":\"8.75\"},{\"data\":[{\"hovertemplate\":\"Interest rate (%)=9.0<br>Expiry date (y)=%{x}<br>Forward price ($)=%{y}<extra></extra>\",\"legendgroup\":\"\",\"marker\":{\"color\":\"#636efa\",\"symbol\":\"circle\"},\"mode\":\"markers\",\"name\":\"\",\"orientation\":\"v\",\"showlegend\":false,\"x\":[0,1,2,3,4,5,6,7,8,9,10,11,12,13,14,15,16,17,18,19,20,21,22,23],\"xaxis\":\"x\",\"y\":[100.0,109.00000000000001,118.81000000000002,129.5029,141.15816100000004,153.86239549000004,167.71001108410007,182.8039120816691,199.25626416901935,217.18932794423108,236.73636745921192,258.042640530541,281.2664781782897,306.5804612143358,334.17270272362606,364.2482459687524,397.0305881059402,432.7633410354748,471.7120417286676,514.1661254842477,560.4410767778301,610.8807736878348,665.8600433197399,725.7874472185166],\"yaxis\":\"y\",\"type\":\"scatter\"}],\"name\":\"9.0\"},{\"data\":[{\"hovertemplate\":\"Interest rate (%)=9.25<br>Expiry date (y)=%{x}<br>Forward price ($)=%{y}<extra></extra>\",\"legendgroup\":\"\",\"marker\":{\"color\":\"#636efa\",\"symbol\":\"circle\"},\"mode\":\"markers\",\"name\":\"\",\"orientation\":\"v\",\"showlegend\":false,\"x\":[0,1,2,3,4,5,6,7,8,9,10,11,12,13,14,15,16,17,18,19,20,21,22,23],\"xaxis\":\"x\",\"y\":[100.0,109.25,119.355625,130.3960203125,142.45765219140628,155.63498501911135,170.03122113337915,185.75910908821675,202.94182667887677,221.71394564667287,242.2224856189901,264.62806553874674,289.1061616010808,315.8484815491808,345.06446609248,376.98292920603444,411.85385015759266,449.95033129717,491.57073694215813,537.0410301093078,586.7173253944188,640.9886779934026,700.2801307077924,765.0560427982631],\"yaxis\":\"y\",\"type\":\"scatter\"}],\"name\":\"9.25\"},{\"data\":[{\"hovertemplate\":\"Interest rate (%)=9.5<br>Expiry date (y)=%{x}<br>Forward price ($)=%{y}<extra></extra>\",\"legendgroup\":\"\",\"marker\":{\"color\":\"#636efa\",\"symbol\":\"circle\"},\"mode\":\"markers\",\"name\":\"\",\"orientation\":\"v\",\"showlegend\":false,\"x\":[0,1,2,3,4,5,6,7,8,9,10,11,12,13,14,15,16,17,18,19,20,21,22,23],\"xaxis\":\"x\",\"y\":[100.0,109.5,119.9025,131.2932375,143.76609506249997,157.4238740934375,172.37914213231406,188.75516063488388,206.68690089519782,226.3221564802416,247.82276134586456,271.3659236737217,297.14568642272525,325.37452663288417,356.28510666300815,390.1321917959939,427.19475001661334,467.7782512681915,512.2171851386697,560.8778177268434,614.1612104108934,672.5065253999283,736.3946453129214,806.352136617649],\"yaxis\":\"y\",\"type\":\"scatter\"}],\"name\":\"9.5\"},{\"data\":[{\"hovertemplate\":\"Interest rate (%)=9.75<br>Expiry date (y)=%{x}<br>Forward price ($)=%{y}<extra></extra>\",\"legendgroup\":\"\",\"marker\":{\"color\":\"#636efa\",\"symbol\":\"circle\"},\"mode\":\"markers\",\"name\":\"\",\"orientation\":\"v\",\"showlegend\":false,\"x\":[0,1,2,3,4,5,6,7,8,9,10,11,12,13,14,15,16,17,18,19,20,21,22,23],\"xaxis\":\"x\",\"y\":[100.0,109.74999999999999,120.45062499999999,132.19456093749997,145.0835306289062,159.22917486522454,174.75401941458392,191.79253630750586,210.49230859748764,231.01530868574267,253.53930128260257,278.2593831576563,305.3896730155278,335.1651661345417,367.8437698326595,403.7085373913437,443.0701197869998,486.26945646623216,533.6807284716898,585.7145994976795,642.8217729487033,705.4968958112017,774.2828431527938,849.7754203601912],\"yaxis\":\"y\",\"type\":\"scatter\"}],\"name\":\"9.75\"}]);\n",
       "                        }).then(function(){\n",
       "                            \n",
       "var gd = document.getElementById('0ba6edcc-99d1-47b9-9edc-1d4fb9d8821c');\n",
       "var x = new MutationObserver(function (mutations, observer) {{\n",
       "        var display = window.getComputedStyle(gd).display;\n",
       "        if (!display || display === 'none') {{\n",
       "            console.log([gd, 'removed!']);\n",
       "            Plotly.purge(gd);\n",
       "            observer.disconnect();\n",
       "        }}\n",
       "}});\n",
       "\n",
       "// Listen for the removal of the full notebook cells\n",
       "var notebookContainer = gd.closest('#notebook-container');\n",
       "if (notebookContainer) {{\n",
       "    x.observe(notebookContainer, {childList: true});\n",
       "}}\n",
       "\n",
       "// Listen for the clearing of the current output cell\n",
       "var outputEl = gd.closest('.output');\n",
       "if (outputEl) {{\n",
       "    x.observe(outputEl, {childList: true});\n",
       "}}\n",
       "\n",
       "                        })                };                });            </script>        </div>"
      ]
     },
     "metadata": {},
     "output_type": "display_data"
    }
   ],
   "source": [
    "# initial asset price - $100\n",
    "asset_price = 100\n",
    "\n",
    "# interest from 0% to 10% with a step of 0.25%\n",
    "interest_rates = list(np.arange(0, 10, 0.25))\n",
    "\n",
    "# forward contract expiring in 5 years\n",
    "time_unit = 'y'\n",
    "num_units = 20\n",
    "time = list(range(num_units+1))\n",
    "\n",
    "build_forward_contract_chart(dates, asset_price, interest_rates, time_unit)"
   ]
  },
  {
   "cell_type": "markdown",
   "id": "68a60cfa",
   "metadata": {},
   "source": [
    "### Value of forward contracts"
   ]
  },
  {
   "cell_type": "markdown",
   "id": "1593c002",
   "metadata": {},
   "source": [
    "Value of the forward contract at expiration for the long party:\n",
    "$$ V_{t}(T) = S_{T} - F_{0}(T) $$"
   ]
  },
  {
   "cell_type": "code",
   "execution_count": 70,
   "id": "6dc934fb",
   "metadata": {},
   "outputs": [],
   "source": [
    "from math import log, sqrt, pi, exp\n",
    "from scipy.stats import norm\n",
    "from datetime import datetime, date\n",
    "import numpy as np\n",
    "import pandas as pd\n",
    "from pandas import DataFrame\n",
    "import plotly.express as px\n",
    "import plotly.graph_objects as go\n",
    "import ipywidgets as widgets\n",
    "from ipywidgets import interact, interactive, fixed, interact_manual"
   ]
  },
  {
   "cell_type": "code",
   "execution_count": 77,
   "id": "afb9dcee",
   "metadata": {},
   "outputs": [],
   "source": [
    "'''\n",
    "Math functions\n",
    "'''\n",
    "def compute_forward_price(S0, r, T, gamma=0, theta=0, date_type='y'):\n",
    "    '''\n",
    "    Computes forward contract price for an asset with spot price S0 with the contract \n",
    "    expiring in time T. Risk-free interest rate is r\n",
    "    '''\n",
    "    # change interest rate from percentage to numeric\n",
    "    r = r/100\n",
    "    \n",
    "    # express T in years\n",
    "    if date_type == 'm':\n",
    "        T = T/12        \n",
    "    elif date_type == 'd':\n",
    "        T = T/365\n",
    "    \n",
    "    return (S0 - gamma + theta) * (1 + r) ** T\n",
    "\n",
    "\n",
    "def compute_expiry_forward_value(ST, F0):\n",
    "    '''\n",
    "    Computes value of the forward contract at expiry date T\n",
    "    for long party\n",
    "    '''\n",
    "    return ST - F0\n",
    "\n",
    "\n",
    "def compute_forward_value(St, F0, r, t, T, gamma=0, theta=0):\n",
    "    '''\n",
    "    Computes the value of a forward contract at time t for an asset with spot price St\n",
    "    The contract expires at time T (i.e. T-t time remains until expiry); the initial price \n",
    "    of the forward contract (without costs & benefits) considered was F0; the risk-free\n",
    "    interest rate is r\n",
    "    '''\n",
    "    discounted_F = F0 / (1+r) ^ (T-t)\n",
    "    benefit_cost_value = (gamma - theta) * ((1 + r) ^ t)\n",
    "    \n",
    "    return St - benefit_cost_value - discounted_F"
   ]
  },
  {
   "cell_type": "code",
   "execution_count": 103,
   "id": "74f1c495",
   "metadata": {},
   "outputs": [],
   "source": [
    "'''\n",
    "Utils\n",
    "'''\n",
    "# from: https://stackoverflow.com/questions/11443737/how-to-generate-exponentially-increasing-range-in-python\n",
    "def generate_asset_prices(order=4):\n",
    "    numbers_sizes = [i*10**exp for exp in range(1, order) for i in range(1, 10)]\n",
    "    return numbers_sizes\n",
    "\n",
    "\n",
    "def get_forward_prices(asset_prices, int_rates, dates, date_type='y'):\n",
    "    forward_prices = []\n",
    "    for T in dates:\n",
    "        forward_prices_at_T = get_forward_prices_at_time(asset_prices, int_rates, T, date_type)\n",
    "        forward_prices += forward_prices_at_T\n",
    "        \n",
    "    return forward_prices\n",
    "        \n",
    "        \n",
    "def get_forward_prices_at_time(asset_prices, int_rates, T, date_type='y'):\n",
    "    forward_prices = []\n",
    "    for S0 in asset_prices:\n",
    "        forward_prices += [compute_forward_price(S0, r, T, date_type=date_type) for r in int_rates]\n",
    "    \n",
    "    return forward_prices\n",
    "\n",
    "\n",
    "def get_ids(asset_prices, int_rates, days):\n",
    "    ids = []\n",
    "    for day in days:\n",
    "        ids += [day] * len(int_rates) * len(asset_prices)\n",
    "    return ids\n",
    "\n",
    "\n",
    "def get_asset_prices(asset_prices, int_rates, days):\n",
    "    asset_prices_l = []\n",
    "    for day in days:\n",
    "        for asset_p in asset_prices:\n",
    "            asset_prices_l += [asset_p] * len(int_rates)\n",
    "    return asset_prices_l\n",
    "\n",
    "\n",
    "def get_interest_rates(asset_prices, int_rates, days):\n",
    "    return int_rates * len(asset_prices) * len(days)\n",
    "\n",
    "\n",
    "def get_days(asset_prices, int_rates, days):\n",
    "    days_l = []\n",
    "    for day in days:\n",
    "        days_l += [day] * len(asset_prices) * len(int_rates)\n",
    "        \n",
    "    return days_l\n",
    "\n",
    "\n",
    "def build_forward_contract_df(dates, asset_price, interest_rates, date_type='m'):\n",
    "    '''\n",
    "    Builds a dataframe that contains details of forward pricing\n",
    "    DF columns:\n",
    "        time\n",
    "        forward_price\n",
    "        asset_price\n",
    "        interest_rate\n",
    "    '''\n",
    "    asset_prices = [asset_price]\n",
    "    \n",
    "    ids = get_ids(asset_prices, interest_rates, dates)\n",
    "    forward_prices_l = get_forward_prices(asset_prices, interest_rates, dates, date_type)\n",
    "    interest_rates_l = get_interest_rates(asset_prices, interest_rates, dates)\n",
    "    asset_prices_l = get_asset_prices(asset_prices, interest_rates, dates)\n",
    "    dates_l = get_days(asset_prices, interest_rates, dates)\n",
    "\n",
    "    d = {'id': ids, \n",
    "         'forward_price': forward_prices_l, \n",
    "         'time': dates_l, \n",
    "         'asset_price': asset_prices_l,\n",
    "         'interest_rate': interest_rates_l\n",
    "        }\n",
    "\n",
    "    forward_df = pd.DataFrame(data=d)\n",
    "    \n",
    "    return forward_df\n",
    "\n",
    "\n",
    "def build_forward_contract_chart(dates, asset_price, interest_rates, date_type='m'):\n",
    "    forward_df = build_forward_contract_df(dates, asset_price, interest_rates, date_type)\n",
    "    fig = px.scatter(forward_df, x=\"time\", y=\"forward_price\", animation_frame=\"interest_rate\",\n",
    "                    title='Price of forward contract for an asset with starting price of $100.',\n",
    "                     labels={\n",
    "                         \"time\": f\"Expiry date ({date_type})\",\n",
    "                         \"forward_price\": \"Forward price ($)\",\n",
    "                         \"interest_rate\": \"Interest rate (%)\"\n",
    "                     },\n",
    "                    range_x=[forward_df.time.min(), contract_df.time.max()+1], \n",
    "                    range_y=[forward_df.forward_price.min()-50,forward_df.forward_price.max()+25])\n",
    "\n",
    "    fig[\"layout\"].pop(\"updatemenus\") # optional, drop animation buttons\n",
    "    fig.show()"
   ]
  }
 ],
 "metadata": {
  "kernelspec": {
   "display_name": "Python 3 (ipykernel)",
   "language": "python",
   "name": "python3"
  },
  "language_info": {
   "codemirror_mode": {
    "name": "ipython",
    "version": 3
   },
   "file_extension": ".py",
   "mimetype": "text/x-python",
   "name": "python",
   "nbconvert_exporter": "python",
   "pygments_lexer": "ipython3",
   "version": "3.9.12"
  }
 },
 "nbformat": 4,
 "nbformat_minor": 5
}
